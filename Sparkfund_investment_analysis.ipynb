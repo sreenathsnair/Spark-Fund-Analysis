{
 "cells": [
  {
   "cell_type": "markdown",
   "metadata": {},
   "source": [
    "# Spark Funds Investment Analysis#"
   ]
  },
  {
   "cell_type": "markdown",
   "metadata": {},
   "source": [
    "**The CEO of Spark Funds wants to understand the global trends in investments so that she can take the investment decisions effectively.**"
   ]
  },
  {
   "cell_type": "markdown",
   "metadata": {},
   "source": [
    "# Business  Understanding###"
   ]
  },
  {
   "cell_type": "markdown",
   "metadata": {},
   "source": [
    "Spark Funds has two minor constraints for investments:\n",
    "1. It wants to invest between 5 to 15 million USD per round of investment\n",
    "2. It wants to invest only in English-speaking countries because of the ease of communication with the companies it would invest in"
   ]
  },
  {
   "cell_type": "markdown",
   "metadata": {},
   "source": [
    "# Objective of Study"
   ]
  },
  {
   "cell_type": "markdown",
   "metadata": {},
   "source": [
    "The objective is to identify the best sectors, countries, and a suitable investment type for making investments. The overall strategy is to invest where others are investing, implying that the 'best' sectors and countries are the ones 'where most investors are investing'."
   ]
  },
  {
   "cell_type": "code",
   "execution_count": 1,
   "metadata": {},
   "outputs": [],
   "source": [
    "# Import the packages as required\n",
    "import numpy as np\n",
    "import pandas as pd\n",
    "pd.options.display.float_format = '{:.2f}'.format\n",
    "\n",
    "import warnings\n",
    "warnings.filterwarnings('ignore')\n",
    "\n",
    "import matplotlib.pyplot as plt\n",
    "import seaborn as sns\n",
    "\n",
    "sns.set_style(\"whitegrid\")"
   ]
  },
  {
   "cell_type": "markdown",
   "metadata": {},
   "source": [
    "Let's first see the encoding of the files using chardet package. Chardset returns the most appropriate encoding, but it may not hold TRUE also.\n",
    "\n",
    "*NOTE: This may take a few minutes since we are going to read all data in binary and then invoking chardet*"
   ]
  },
  {
   "cell_type": "code",
   "execution_count": 2,
   "metadata": {},
   "outputs": [
    {
     "data": {
      "text/plain": [
       "'Windows-1254'"
      ]
     },
     "execution_count": 2,
     "metadata": {},
     "output_type": "execute_result"
    }
   ],
   "source": [
    "import chardet as cd\n",
    "rawdata = open('companies.txt', 'rb').read()\n",
    "result = cd.detect(rawdata)\n",
    "result['encoding']"
   ]
  },
  {
   "cell_type": "code",
   "execution_count": 3,
   "metadata": {},
   "outputs": [
    {
     "data": {
      "text/plain": [
       "'Windows-1254'"
      ]
     },
     "execution_count": 3,
     "metadata": {},
     "output_type": "execute_result"
    }
   ],
   "source": [
    "rawdata = open('rounds2.csv', 'rb').read()\n",
    "result = cd.detect(rawdata)\n",
    "result['encoding']"
   ]
  },
  {
   "cell_type": "markdown",
   "metadata": {},
   "source": [
    "Though chardet returns 'Windows-1254' as encoding for both the files, opening with encoding as 'Windows-1254' results in \"parse error\". Hence we will try to open the file by specifying engine parameter as 'python' instead of default c-engine. "
   ]
  },
  {
   "cell_type": "code",
   "execution_count": 4,
   "metadata": {
    "scrolled": false
   },
   "outputs": [
    {
     "data": {
      "text/html": [
       "<div>\n",
       "<style scoped>\n",
       "    .dataframe tbody tr th:only-of-type {\n",
       "        vertical-align: middle;\n",
       "    }\n",
       "\n",
       "    .dataframe tbody tr th {\n",
       "        vertical-align: top;\n",
       "    }\n",
       "\n",
       "    .dataframe thead th {\n",
       "        text-align: right;\n",
       "    }\n",
       "</style>\n",
       "<table border=\"1\" class=\"dataframe\">\n",
       "  <thead>\n",
       "    <tr style=\"text-align: right;\">\n",
       "      <th></th>\n",
       "      <th>permalink</th>\n",
       "      <th>name</th>\n",
       "      <th>homepage_url</th>\n",
       "      <th>category_list</th>\n",
       "      <th>status</th>\n",
       "      <th>country_code</th>\n",
       "      <th>state_code</th>\n",
       "      <th>region</th>\n",
       "      <th>city</th>\n",
       "      <th>founded_at</th>\n",
       "    </tr>\n",
       "  </thead>\n",
       "  <tbody>\n",
       "    <tr>\n",
       "      <th>0</th>\n",
       "      <td>/Organization/-Fame</td>\n",
       "      <td>#fame</td>\n",
       "      <td>http://livfame.com</td>\n",
       "      <td>Media</td>\n",
       "      <td>operating</td>\n",
       "      <td>IND</td>\n",
       "      <td>16</td>\n",
       "      <td>Mumbai</td>\n",
       "      <td>Mumbai</td>\n",
       "      <td>NaN</td>\n",
       "    </tr>\n",
       "    <tr>\n",
       "      <th>1</th>\n",
       "      <td>/Organization/-Qounter</td>\n",
       "      <td>:Qounter</td>\n",
       "      <td>http://www.qounter.com</td>\n",
       "      <td>Application Platforms|Real Time|Social Network...</td>\n",
       "      <td>operating</td>\n",
       "      <td>USA</td>\n",
       "      <td>DE</td>\n",
       "      <td>DE - Other</td>\n",
       "      <td>Delaware City</td>\n",
       "      <td>04-09-2014</td>\n",
       "    </tr>\n",
       "    <tr>\n",
       "      <th>2</th>\n",
       "      <td>/Organization/-The-One-Of-Them-Inc-</td>\n",
       "      <td>(THE) ONE of THEM,Inc.</td>\n",
       "      <td>http://oneofthem.jp</td>\n",
       "      <td>Apps|Games|Mobile</td>\n",
       "      <td>operating</td>\n",
       "      <td>NaN</td>\n",
       "      <td>NaN</td>\n",
       "      <td>NaN</td>\n",
       "      <td>NaN</td>\n",
       "      <td>NaN</td>\n",
       "    </tr>\n",
       "    <tr>\n",
       "      <th>3</th>\n",
       "      <td>/Organization/0-6-Com</td>\n",
       "      <td>0-6.com</td>\n",
       "      <td>http://www.0-6.com</td>\n",
       "      <td>Curated Web</td>\n",
       "      <td>operating</td>\n",
       "      <td>CHN</td>\n",
       "      <td>22</td>\n",
       "      <td>Beijing</td>\n",
       "      <td>Beijing</td>\n",
       "      <td>01-01-2007</td>\n",
       "    </tr>\n",
       "    <tr>\n",
       "      <th>4</th>\n",
       "      <td>/Organization/004-Technologies</td>\n",
       "      <td>004 Technologies</td>\n",
       "      <td>http://004gmbh.de/en/004-interact</td>\n",
       "      <td>Software</td>\n",
       "      <td>operating</td>\n",
       "      <td>USA</td>\n",
       "      <td>IL</td>\n",
       "      <td>Springfield, Illinois</td>\n",
       "      <td>Champaign</td>\n",
       "      <td>01-01-2010</td>\n",
       "    </tr>\n",
       "  </tbody>\n",
       "</table>\n",
       "</div>"
      ],
      "text/plain": [
       "                             permalink                    name  \\\n",
       "0                  /Organization/-Fame                   #fame   \n",
       "1               /Organization/-Qounter                :Qounter   \n",
       "2  /Organization/-The-One-Of-Them-Inc-  (THE) ONE of THEM,Inc.   \n",
       "3                /Organization/0-6-Com                 0-6.com   \n",
       "4       /Organization/004-Technologies        004 Technologies   \n",
       "\n",
       "                        homepage_url  \\\n",
       "0                 http://livfame.com   \n",
       "1             http://www.qounter.com   \n",
       "2                http://oneofthem.jp   \n",
       "3                 http://www.0-6.com   \n",
       "4  http://004gmbh.de/en/004-interact   \n",
       "\n",
       "                                       category_list     status country_code  \\\n",
       "0                                              Media  operating          IND   \n",
       "1  Application Platforms|Real Time|Social Network...  operating          USA   \n",
       "2                                  Apps|Games|Mobile  operating          NaN   \n",
       "3                                        Curated Web  operating          CHN   \n",
       "4                                           Software  operating          USA   \n",
       "\n",
       "  state_code                 region           city  founded_at  \n",
       "0         16                 Mumbai         Mumbai         NaN  \n",
       "1         DE             DE - Other  Delaware City  04-09-2014  \n",
       "2        NaN                    NaN            NaN         NaN  \n",
       "3         22                Beijing        Beijing  01-01-2007  \n",
       "4         IL  Springfield, Illinois      Champaign  01-01-2010  "
      ]
     },
     "execution_count": 4,
     "metadata": {},
     "output_type": "execute_result"
    }
   ],
   "source": [
    "# Let's load the companies.txt onto \"companies\" data frame. \n",
    "# Here it is assumed that the data files are present in the same folder as the notebook\n",
    "\n",
    "companies = pd.read_csv(\"companies.txt\", sep=\"\\t\", engine = 'python')\n",
    "companies.head()"
   ]
  },
  {
   "cell_type": "code",
   "execution_count": 5,
   "metadata": {},
   "outputs": [
    {
     "data": {
      "text/html": [
       "<div>\n",
       "<style scoped>\n",
       "    .dataframe tbody tr th:only-of-type {\n",
       "        vertical-align: middle;\n",
       "    }\n",
       "\n",
       "    .dataframe tbody tr th {\n",
       "        vertical-align: top;\n",
       "    }\n",
       "\n",
       "    .dataframe thead th {\n",
       "        text-align: right;\n",
       "    }\n",
       "</style>\n",
       "<table border=\"1\" class=\"dataframe\">\n",
       "  <thead>\n",
       "    <tr style=\"text-align: right;\">\n",
       "      <th></th>\n",
       "      <th>company_permalink</th>\n",
       "      <th>funding_round_permalink</th>\n",
       "      <th>funding_round_type</th>\n",
       "      <th>funding_round_code</th>\n",
       "      <th>funded_at</th>\n",
       "      <th>raised_amount_usd</th>\n",
       "    </tr>\n",
       "  </thead>\n",
       "  <tbody>\n",
       "    <tr>\n",
       "      <th>0</th>\n",
       "      <td>/organization/-fame</td>\n",
       "      <td>/funding-round/9a01d05418af9f794eebff7ace91f638</td>\n",
       "      <td>venture</td>\n",
       "      <td>B</td>\n",
       "      <td>05-01-2015</td>\n",
       "      <td>10000000.00</td>\n",
       "    </tr>\n",
       "    <tr>\n",
       "      <th>1</th>\n",
       "      <td>/ORGANIZATION/-QOUNTER</td>\n",
       "      <td>/funding-round/22dacff496eb7acb2b901dec1dfe5633</td>\n",
       "      <td>venture</td>\n",
       "      <td>A</td>\n",
       "      <td>14-10-2014</td>\n",
       "      <td>nan</td>\n",
       "    </tr>\n",
       "    <tr>\n",
       "      <th>2</th>\n",
       "      <td>/organization/-qounter</td>\n",
       "      <td>/funding-round/b44fbb94153f6cdef13083530bb48030</td>\n",
       "      <td>seed</td>\n",
       "      <td>NaN</td>\n",
       "      <td>01-03-2014</td>\n",
       "      <td>700000.00</td>\n",
       "    </tr>\n",
       "    <tr>\n",
       "      <th>3</th>\n",
       "      <td>/ORGANIZATION/-THE-ONE-OF-THEM-INC-</td>\n",
       "      <td>/funding-round/650b8f704416801069bb178a1418776b</td>\n",
       "      <td>venture</td>\n",
       "      <td>B</td>\n",
       "      <td>30-01-2014</td>\n",
       "      <td>3406878.00</td>\n",
       "    </tr>\n",
       "    <tr>\n",
       "      <th>4</th>\n",
       "      <td>/organization/0-6-com</td>\n",
       "      <td>/funding-round/5727accaeaa57461bd22a9bdd945382d</td>\n",
       "      <td>venture</td>\n",
       "      <td>A</td>\n",
       "      <td>19-03-2008</td>\n",
       "      <td>2000000.00</td>\n",
       "    </tr>\n",
       "  </tbody>\n",
       "</table>\n",
       "</div>"
      ],
      "text/plain": [
       "                     company_permalink  \\\n",
       "0                  /organization/-fame   \n",
       "1               /ORGANIZATION/-QOUNTER   \n",
       "2               /organization/-qounter   \n",
       "3  /ORGANIZATION/-THE-ONE-OF-THEM-INC-   \n",
       "4                /organization/0-6-com   \n",
       "\n",
       "                           funding_round_permalink funding_round_type  \\\n",
       "0  /funding-round/9a01d05418af9f794eebff7ace91f638            venture   \n",
       "1  /funding-round/22dacff496eb7acb2b901dec1dfe5633            venture   \n",
       "2  /funding-round/b44fbb94153f6cdef13083530bb48030               seed   \n",
       "3  /funding-round/650b8f704416801069bb178a1418776b            venture   \n",
       "4  /funding-round/5727accaeaa57461bd22a9bdd945382d            venture   \n",
       "\n",
       "  funding_round_code   funded_at  raised_amount_usd  \n",
       "0                  B  05-01-2015        10000000.00  \n",
       "1                  A  14-10-2014                nan  \n",
       "2                NaN  01-03-2014          700000.00  \n",
       "3                  B  30-01-2014         3406878.00  \n",
       "4                  A  19-03-2008         2000000.00  "
      ]
     },
     "execution_count": 5,
     "metadata": {},
     "output_type": "execute_result"
    }
   ],
   "source": [
    "# Read the rounds2.csv onto the companies data frame. \n",
    "# Here it is assumed that the csv is present in the same folder as the notebook\n",
    "\n",
    "rounds2 = pd.read_csv('rounds2.csv', engine = 'python')\n",
    "rounds2.head()"
   ]
  },
  {
   "cell_type": "markdown",
   "metadata": {},
   "source": [
    "Let us have a closer looks at these data."
   ]
  },
  {
   "cell_type": "code",
   "execution_count": 6,
   "metadata": {
    "scrolled": false
   },
   "outputs": [
    {
     "name": "stdout",
     "output_type": "stream",
     "text": [
      "<class 'pandas.core.frame.DataFrame'>\n",
      "RangeIndex: 66368 entries, 0 to 66367\n",
      "Data columns (total 10 columns):\n",
      "permalink        66368 non-null object\n",
      "name             66367 non-null object\n",
      "homepage_url     61310 non-null object\n",
      "category_list    63220 non-null object\n",
      "status           66368 non-null object\n",
      "country_code     59410 non-null object\n",
      "state_code       57821 non-null object\n",
      "region           58338 non-null object\n",
      "city             58340 non-null object\n",
      "founded_at       51147 non-null object\n",
      "dtypes: object(10)\n",
      "memory usage: 5.1+ MB\n"
     ]
    }
   ],
   "source": [
    "companies.info()"
   ]
  },
  {
   "cell_type": "code",
   "execution_count": 7,
   "metadata": {
    "scrolled": true
   },
   "outputs": [
    {
     "data": {
      "text/html": [
       "<div>\n",
       "<style scoped>\n",
       "    .dataframe tbody tr th:only-of-type {\n",
       "        vertical-align: middle;\n",
       "    }\n",
       "\n",
       "    .dataframe tbody tr th {\n",
       "        vertical-align: top;\n",
       "    }\n",
       "\n",
       "    .dataframe thead th {\n",
       "        text-align: right;\n",
       "    }\n",
       "</style>\n",
       "<table border=\"1\" class=\"dataframe\">\n",
       "  <thead>\n",
       "    <tr style=\"text-align: right;\">\n",
       "      <th></th>\n",
       "      <th>permalink</th>\n",
       "      <th>name</th>\n",
       "      <th>homepage_url</th>\n",
       "      <th>category_list</th>\n",
       "      <th>status</th>\n",
       "      <th>country_code</th>\n",
       "      <th>state_code</th>\n",
       "      <th>region</th>\n",
       "      <th>city</th>\n",
       "      <th>founded_at</th>\n",
       "    </tr>\n",
       "  </thead>\n",
       "  <tbody>\n",
       "    <tr>\n",
       "      <th>count</th>\n",
       "      <td>66368</td>\n",
       "      <td>66367</td>\n",
       "      <td>61310</td>\n",
       "      <td>63220</td>\n",
       "      <td>66368</td>\n",
       "      <td>59410</td>\n",
       "      <td>57821</td>\n",
       "      <td>58338</td>\n",
       "      <td>58340</td>\n",
       "      <td>51147</td>\n",
       "    </tr>\n",
       "    <tr>\n",
       "      <th>unique</th>\n",
       "      <td>66368</td>\n",
       "      <td>66102</td>\n",
       "      <td>61191</td>\n",
       "      <td>27296</td>\n",
       "      <td>4</td>\n",
       "      <td>137</td>\n",
       "      <td>311</td>\n",
       "      <td>1092</td>\n",
       "      <td>5111</td>\n",
       "      <td>3978</td>\n",
       "    </tr>\n",
       "    <tr>\n",
       "      <th>top</th>\n",
       "      <td>/Organization/Viva-Vision</td>\n",
       "      <td>Peach</td>\n",
       "      <td>http://www.askforoffer.com</td>\n",
       "      <td>Software</td>\n",
       "      <td>operating</td>\n",
       "      <td>USA</td>\n",
       "      <td>CA</td>\n",
       "      <td>SF Bay Area</td>\n",
       "      <td>San Francisco</td>\n",
       "      <td>01-01-2012</td>\n",
       "    </tr>\n",
       "    <tr>\n",
       "      <th>freq</th>\n",
       "      <td>1</td>\n",
       "      <td>4</td>\n",
       "      <td>5</td>\n",
       "      <td>3995</td>\n",
       "      <td>53034</td>\n",
       "      <td>37601</td>\n",
       "      <td>12900</td>\n",
       "      <td>8804</td>\n",
       "      <td>3526</td>\n",
       "      <td>2730</td>\n",
       "    </tr>\n",
       "  </tbody>\n",
       "</table>\n",
       "</div>"
      ],
      "text/plain": [
       "                        permalink   name                homepage_url  \\\n",
       "count                       66368  66367                       61310   \n",
       "unique                      66368  66102                       61191   \n",
       "top     /Organization/Viva-Vision  Peach  http://www.askforoffer.com   \n",
       "freq                            1      4                           5   \n",
       "\n",
       "       category_list     status country_code state_code       region  \\\n",
       "count          63220      66368        59410      57821        58338   \n",
       "unique         27296          4          137        311         1092   \n",
       "top         Software  operating          USA         CA  SF Bay Area   \n",
       "freq            3995      53034        37601      12900         8804   \n",
       "\n",
       "                 city  founded_at  \n",
       "count           58340       51147  \n",
       "unique           5111        3978  \n",
       "top     San Francisco  01-01-2012  \n",
       "freq             3526        2730  "
      ]
     },
     "execution_count": 7,
     "metadata": {},
     "output_type": "execute_result"
    }
   ],
   "source": [
    "companies.describe()"
   ]
  },
  {
   "cell_type": "code",
   "execution_count": 8,
   "metadata": {},
   "outputs": [
    {
     "name": "stdout",
     "output_type": "stream",
     "text": [
      "<class 'pandas.core.frame.DataFrame'>\n",
      "RangeIndex: 114949 entries, 0 to 114948\n",
      "Data columns (total 6 columns):\n",
      "company_permalink          114949 non-null object\n",
      "funding_round_permalink    114949 non-null object\n",
      "funding_round_type         114949 non-null object\n",
      "funding_round_code         31140 non-null object\n",
      "funded_at                  114949 non-null object\n",
      "raised_amount_usd          94959 non-null float64\n",
      "dtypes: float64(1), object(5)\n",
      "memory usage: 5.3+ MB\n"
     ]
    }
   ],
   "source": [
    "rounds2.info()"
   ]
  },
  {
   "cell_type": "code",
   "execution_count": 9,
   "metadata": {},
   "outputs": [
    {
     "data": {
      "text/html": [
       "<div>\n",
       "<style scoped>\n",
       "    .dataframe tbody tr th:only-of-type {\n",
       "        vertical-align: middle;\n",
       "    }\n",
       "\n",
       "    .dataframe tbody tr th {\n",
       "        vertical-align: top;\n",
       "    }\n",
       "\n",
       "    .dataframe thead th {\n",
       "        text-align: right;\n",
       "    }\n",
       "</style>\n",
       "<table border=\"1\" class=\"dataframe\">\n",
       "  <thead>\n",
       "    <tr style=\"text-align: right;\">\n",
       "      <th></th>\n",
       "      <th>raised_amount_usd</th>\n",
       "    </tr>\n",
       "  </thead>\n",
       "  <tbody>\n",
       "    <tr>\n",
       "      <th>count</th>\n",
       "      <td>94959.00</td>\n",
       "    </tr>\n",
       "    <tr>\n",
       "      <th>mean</th>\n",
       "      <td>10426869.33</td>\n",
       "    </tr>\n",
       "    <tr>\n",
       "      <th>std</th>\n",
       "      <td>114821247.98</td>\n",
       "    </tr>\n",
       "    <tr>\n",
       "      <th>min</th>\n",
       "      <td>0.00</td>\n",
       "    </tr>\n",
       "    <tr>\n",
       "      <th>25%</th>\n",
       "      <td>322500.00</td>\n",
       "    </tr>\n",
       "    <tr>\n",
       "      <th>50%</th>\n",
       "      <td>1680511.00</td>\n",
       "    </tr>\n",
       "    <tr>\n",
       "      <th>75%</th>\n",
       "      <td>7000000.00</td>\n",
       "    </tr>\n",
       "    <tr>\n",
       "      <th>max</th>\n",
       "      <td>21271935000.00</td>\n",
       "    </tr>\n",
       "  </tbody>\n",
       "</table>\n",
       "</div>"
      ],
      "text/plain": [
       "       raised_amount_usd\n",
       "count           94959.00\n",
       "mean         10426869.33\n",
       "std         114821247.98\n",
       "min                 0.00\n",
       "25%            322500.00\n",
       "50%           1680511.00\n",
       "75%           7000000.00\n",
       "max       21271935000.00"
      ]
     },
     "execution_count": 9,
     "metadata": {},
     "output_type": "execute_result"
    }
   ],
   "source": [
    "rounds2.describe()"
   ]
  },
  {
   "cell_type": "markdown",
   "metadata": {},
   "source": [
    "Before proceeding further let us convert the permalink id in both the dataframe to lower case."
   ]
  },
  {
   "cell_type": "code",
   "execution_count": 10,
   "metadata": {},
   "outputs": [],
   "source": [
    "#Will convert the permalink to lower case as this DF needs to be merged with rounds2 DF down the line in this analsysis.\n",
    "companies[\"permalink\"] = companies.permalink.str.lower()"
   ]
  },
  {
   "cell_type": "code",
   "execution_count": 11,
   "metadata": {},
   "outputs": [],
   "source": [
    "#Will convert the company_permalink to lower case as we can see some entries are upper case where as some are lowercase.\n",
    "rounds2[\"company_permalink\"] = rounds2.company_permalink.str.lower()"
   ]
  },
  {
   "cell_type": "markdown",
   "metadata": {},
   "source": [
    "**Number of unique companies present in companies dataframe**"
   ]
  },
  {
   "cell_type": "markdown",
   "metadata": {},
   "source": [
    "It is already mentioned in the description that permalink will be the unique identification for companies. Let's confirm this by printing the number of unique permalink ids from companies dataframe. This should be same as the length of companies dataframe."
   ]
  },
  {
   "cell_type": "code",
   "execution_count": 12,
   "metadata": {
    "scrolled": false
   },
   "outputs": [
    {
     "name": "stdout",
     "output_type": "stream",
     "text": [
      "permalink is confirmed to be the unique identification for companies\n",
      "Number of unique companies in companies data frame:  66368\n"
     ]
    }
   ],
   "source": [
    "unique_companies_compdf = companies.permalink.nunique()\n",
    "if(len(companies) == unique_companies_compdf) :\n",
    "    print(\"permalink is confirmed to be the unique identification for companies\")\n",
    "\n",
    "print(\"Number of unique companies in companies data frame: \", unique_companies_compdf)"
   ]
  },
  {
   "cell_type": "markdown",
   "metadata": {},
   "source": [
    "**Number of unique companies present in round2 dataframe**"
   ]
  },
  {
   "cell_type": "code",
   "execution_count": 13,
   "metadata": {},
   "outputs": [
    {
     "name": "stdout",
     "output_type": "stream",
     "text": [
      "Number of unique companies in rounds2 data frame:  66368\n"
     ]
    }
   ],
   "source": [
    "unique_companies_rndsdf = rounds2.company_permalink.nunique()\n",
    "print(\"Number of unique companies in rounds2 data frame: \", unique_companies_rndsdf)"
   ]
  },
  {
   "cell_type": "markdown",
   "metadata": {},
   "source": [
    "Though the number of unique companies in companies DF and rounds2 DF are same, still the companies can be different. Let's find out is there are any differences.\n",
    "\n",
    "**Companies which are only present in \"companies\" DF**"
   ]
  },
  {
   "cell_type": "code",
   "execution_count": 14,
   "metadata": {
    "scrolled": false
   },
   "outputs": [
    {
     "name": "stdout",
     "output_type": "stream",
     "text": [
      "Number of companies which are only present in 'companies'Data Frame:  0\n"
     ]
    }
   ],
   "source": [
    "uniqe_in_companies = set(companies['permalink']) - (set(rounds2['company_permalink']))\n",
    "print(\"Number of companies which are only present in 'companies'Data Frame: \", len(uniqe_in_companies))\n",
    "\n",
    "if(len(uniqe_in_companies) > 0):\n",
    "    print(\"Companies only present in companies DF are: \", list(uniqe_in_companies))"
   ]
  },
  {
   "cell_type": "markdown",
   "metadata": {},
   "source": [
    "**Companies which are only present in \"rounds2\" DF**"
   ]
  },
  {
   "cell_type": "code",
   "execution_count": 15,
   "metadata": {
    "scrolled": false
   },
   "outputs": [
    {
     "name": "stdout",
     "output_type": "stream",
     "text": [
      "Number of companies which are only present in 'rounds2' Data Frame:  0\n"
     ]
    }
   ],
   "source": [
    "uniqe_in_rounds2 = set(rounds2['company_permalink'])-(set(companies['permalink']))\n",
    "print(\"Number of companies which are only present in 'rounds2' Data Frame: \", len(uniqe_in_rounds2))\n",
    "\n",
    "if(len(uniqe_in_rounds2) > 0):\n",
    "    print(\"Companies only present in rounds2 DF are: \", list(uniqe_in_rounds2))"
   ]
  },
  {
   "cell_type": "markdown",
   "metadata": {},
   "source": [
    "*Since the difference above returned empty set there are no new companies in rounds2.*"
   ]
  },
  {
   "cell_type": "markdown",
   "metadata": {},
   "source": [
    "# Merging Companies dataframe onto rounds2"
   ]
  },
  {
   "cell_type": "markdown",
   "metadata": {},
   "source": [
    "As per the above observation the unique set of companies in rounds2 and companies data frame are same. So doing an inner merge or left merge both will yield same result. Lets do a left merge as in the assignnment it is mentioned to merge all columns of companies to rounds2."
   ]
  },
  {
   "cell_type": "code",
   "execution_count": 16,
   "metadata": {
    "scrolled": true
   },
   "outputs": [
    {
     "data": {
      "text/html": [
       "<div>\n",
       "<style scoped>\n",
       "    .dataframe tbody tr th:only-of-type {\n",
       "        vertical-align: middle;\n",
       "    }\n",
       "\n",
       "    .dataframe tbody tr th {\n",
       "        vertical-align: top;\n",
       "    }\n",
       "\n",
       "    .dataframe thead th {\n",
       "        text-align: right;\n",
       "    }\n",
       "</style>\n",
       "<table border=\"1\" class=\"dataframe\">\n",
       "  <thead>\n",
       "    <tr style=\"text-align: right;\">\n",
       "      <th></th>\n",
       "      <th>company_permalink</th>\n",
       "      <th>funding_round_permalink</th>\n",
       "      <th>funding_round_type</th>\n",
       "      <th>funding_round_code</th>\n",
       "      <th>funded_at</th>\n",
       "      <th>raised_amount_usd</th>\n",
       "      <th>permalink</th>\n",
       "      <th>name</th>\n",
       "      <th>homepage_url</th>\n",
       "      <th>category_list</th>\n",
       "      <th>status</th>\n",
       "      <th>country_code</th>\n",
       "      <th>state_code</th>\n",
       "      <th>region</th>\n",
       "      <th>city</th>\n",
       "      <th>founded_at</th>\n",
       "    </tr>\n",
       "  </thead>\n",
       "  <tbody>\n",
       "    <tr>\n",
       "      <th>0</th>\n",
       "      <td>/organization/-fame</td>\n",
       "      <td>/funding-round/9a01d05418af9f794eebff7ace91f638</td>\n",
       "      <td>venture</td>\n",
       "      <td>B</td>\n",
       "      <td>05-01-2015</td>\n",
       "      <td>10000000.00</td>\n",
       "      <td>/organization/-fame</td>\n",
       "      <td>#fame</td>\n",
       "      <td>http://livfame.com</td>\n",
       "      <td>Media</td>\n",
       "      <td>operating</td>\n",
       "      <td>IND</td>\n",
       "      <td>16</td>\n",
       "      <td>Mumbai</td>\n",
       "      <td>Mumbai</td>\n",
       "      <td>NaN</td>\n",
       "    </tr>\n",
       "    <tr>\n",
       "      <th>1</th>\n",
       "      <td>/organization/-qounter</td>\n",
       "      <td>/funding-round/22dacff496eb7acb2b901dec1dfe5633</td>\n",
       "      <td>venture</td>\n",
       "      <td>A</td>\n",
       "      <td>14-10-2014</td>\n",
       "      <td>nan</td>\n",
       "      <td>/organization/-qounter</td>\n",
       "      <td>:Qounter</td>\n",
       "      <td>http://www.qounter.com</td>\n",
       "      <td>Application Platforms|Real Time|Social Network...</td>\n",
       "      <td>operating</td>\n",
       "      <td>USA</td>\n",
       "      <td>DE</td>\n",
       "      <td>DE - Other</td>\n",
       "      <td>Delaware City</td>\n",
       "      <td>04-09-2014</td>\n",
       "    </tr>\n",
       "    <tr>\n",
       "      <th>2</th>\n",
       "      <td>/organization/-qounter</td>\n",
       "      <td>/funding-round/b44fbb94153f6cdef13083530bb48030</td>\n",
       "      <td>seed</td>\n",
       "      <td>NaN</td>\n",
       "      <td>01-03-2014</td>\n",
       "      <td>700000.00</td>\n",
       "      <td>/organization/-qounter</td>\n",
       "      <td>:Qounter</td>\n",
       "      <td>http://www.qounter.com</td>\n",
       "      <td>Application Platforms|Real Time|Social Network...</td>\n",
       "      <td>operating</td>\n",
       "      <td>USA</td>\n",
       "      <td>DE</td>\n",
       "      <td>DE - Other</td>\n",
       "      <td>Delaware City</td>\n",
       "      <td>04-09-2014</td>\n",
       "    </tr>\n",
       "    <tr>\n",
       "      <th>3</th>\n",
       "      <td>/organization/-the-one-of-them-inc-</td>\n",
       "      <td>/funding-round/650b8f704416801069bb178a1418776b</td>\n",
       "      <td>venture</td>\n",
       "      <td>B</td>\n",
       "      <td>30-01-2014</td>\n",
       "      <td>3406878.00</td>\n",
       "      <td>/organization/-the-one-of-them-inc-</td>\n",
       "      <td>(THE) ONE of THEM,Inc.</td>\n",
       "      <td>http://oneofthem.jp</td>\n",
       "      <td>Apps|Games|Mobile</td>\n",
       "      <td>operating</td>\n",
       "      <td>NaN</td>\n",
       "      <td>NaN</td>\n",
       "      <td>NaN</td>\n",
       "      <td>NaN</td>\n",
       "      <td>NaN</td>\n",
       "    </tr>\n",
       "    <tr>\n",
       "      <th>4</th>\n",
       "      <td>/organization/0-6-com</td>\n",
       "      <td>/funding-round/5727accaeaa57461bd22a9bdd945382d</td>\n",
       "      <td>venture</td>\n",
       "      <td>A</td>\n",
       "      <td>19-03-2008</td>\n",
       "      <td>2000000.00</td>\n",
       "      <td>/organization/0-6-com</td>\n",
       "      <td>0-6.com</td>\n",
       "      <td>http://www.0-6.com</td>\n",
       "      <td>Curated Web</td>\n",
       "      <td>operating</td>\n",
       "      <td>CHN</td>\n",
       "      <td>22</td>\n",
       "      <td>Beijing</td>\n",
       "      <td>Beijing</td>\n",
       "      <td>01-01-2007</td>\n",
       "    </tr>\n",
       "  </tbody>\n",
       "</table>\n",
       "</div>"
      ],
      "text/plain": [
       "                     company_permalink  \\\n",
       "0                  /organization/-fame   \n",
       "1               /organization/-qounter   \n",
       "2               /organization/-qounter   \n",
       "3  /organization/-the-one-of-them-inc-   \n",
       "4                /organization/0-6-com   \n",
       "\n",
       "                           funding_round_permalink funding_round_type  \\\n",
       "0  /funding-round/9a01d05418af9f794eebff7ace91f638            venture   \n",
       "1  /funding-round/22dacff496eb7acb2b901dec1dfe5633            venture   \n",
       "2  /funding-round/b44fbb94153f6cdef13083530bb48030               seed   \n",
       "3  /funding-round/650b8f704416801069bb178a1418776b            venture   \n",
       "4  /funding-round/5727accaeaa57461bd22a9bdd945382d            venture   \n",
       "\n",
       "  funding_round_code   funded_at  raised_amount_usd  \\\n",
       "0                  B  05-01-2015        10000000.00   \n",
       "1                  A  14-10-2014                nan   \n",
       "2                NaN  01-03-2014          700000.00   \n",
       "3                  B  30-01-2014         3406878.00   \n",
       "4                  A  19-03-2008         2000000.00   \n",
       "\n",
       "                             permalink                    name  \\\n",
       "0                  /organization/-fame                   #fame   \n",
       "1               /organization/-qounter                :Qounter   \n",
       "2               /organization/-qounter                :Qounter   \n",
       "3  /organization/-the-one-of-them-inc-  (THE) ONE of THEM,Inc.   \n",
       "4                /organization/0-6-com                 0-6.com   \n",
       "\n",
       "             homepage_url                                      category_list  \\\n",
       "0      http://livfame.com                                              Media   \n",
       "1  http://www.qounter.com  Application Platforms|Real Time|Social Network...   \n",
       "2  http://www.qounter.com  Application Platforms|Real Time|Social Network...   \n",
       "3     http://oneofthem.jp                                  Apps|Games|Mobile   \n",
       "4      http://www.0-6.com                                        Curated Web   \n",
       "\n",
       "      status country_code state_code      region           city  founded_at  \n",
       "0  operating          IND         16      Mumbai         Mumbai         NaN  \n",
       "1  operating          USA         DE  DE - Other  Delaware City  04-09-2014  \n",
       "2  operating          USA         DE  DE - Other  Delaware City  04-09-2014  \n",
       "3  operating          NaN        NaN         NaN            NaN         NaN  \n",
       "4  operating          CHN         22     Beijing        Beijing  01-01-2007  "
      ]
     },
     "execution_count": 16,
     "metadata": {},
     "output_type": "execute_result"
    }
   ],
   "source": [
    "master_frame = pd.merge(rounds2, companies, how = 'left', left_on='company_permalink',right_on='permalink')\n",
    "master_frame.head()"
   ]
  },
  {
   "cell_type": "code",
   "execution_count": 17,
   "metadata": {
    "scrolled": true
   },
   "outputs": [
    {
     "name": "stdout",
     "output_type": "stream",
     "text": [
      "<class 'pandas.core.frame.DataFrame'>\n",
      "Int64Index: 114949 entries, 0 to 114948\n",
      "Data columns (total 16 columns):\n",
      "company_permalink          114949 non-null object\n",
      "funding_round_permalink    114949 non-null object\n",
      "funding_round_type         114949 non-null object\n",
      "funding_round_code         31140 non-null object\n",
      "funded_at                  114949 non-null object\n",
      "raised_amount_usd          94959 non-null float64\n",
      "permalink                  114949 non-null object\n",
      "name                       114948 non-null object\n",
      "homepage_url               108815 non-null object\n",
      "category_list              111539 non-null object\n",
      "status                     114949 non-null object\n",
      "country_code               106271 non-null object\n",
      "state_code                 104003 non-null object\n",
      "region                     104782 non-null object\n",
      "city                       104785 non-null object\n",
      "founded_at                 94428 non-null object\n",
      "dtypes: float64(1), object(15)\n",
      "memory usage: 14.9+ MB\n"
     ]
    }
   ],
   "source": [
    "master_frame.info()"
   ]
  },
  {
   "cell_type": "code",
   "execution_count": 18,
   "metadata": {},
   "outputs": [
    {
     "data": {
      "text/plain": [
       "company_permalink              0\n",
       "funding_round_permalink        0\n",
       "funding_round_type             0\n",
       "funding_round_code         83809\n",
       "funded_at                      0\n",
       "raised_amount_usd          19990\n",
       "permalink                      0\n",
       "name                           1\n",
       "homepage_url                6134\n",
       "category_list               3410\n",
       "status                         0\n",
       "country_code                8678\n",
       "state_code                 10946\n",
       "region                     10167\n",
       "city                       10164\n",
       "founded_at                 20521\n",
       "dtype: int64"
      ]
     },
     "execution_count": 18,
     "metadata": {},
     "output_type": "execute_result"
    }
   ],
   "source": [
    "master_frame.isnull().sum()"
   ]
  },
  {
   "cell_type": "code",
   "execution_count": 19,
   "metadata": {},
   "outputs": [
    {
     "name": "stdout",
     "output_type": "stream",
     "text": [
      "Number of rows present in the master_frame:  114949\n"
     ]
    }
   ],
   "source": [
    "print(\"Number of rows present in the master_frame: \", len(master_frame))"
   ]
  },
  {
   "cell_type": "markdown",
   "metadata": {},
   "source": [
    "# Data CLeanup and Preperation"
   ]
  },
  {
   "cell_type": "markdown",
   "metadata": {},
   "source": [
    "Lets us first remove the columns which are not useful. We need only the following columns \n",
    "    1. company_permalink  - Since this is unique identification for comapny\n",
    "    2. funding_round_type - As part of our analysis we need to see which type of funding is suitable\n",
    "    3. raised_amount_usd  - funding amount\n",
    "    4. name               - Retaining name, since it can be used for explanation purpose over company_permalink\n",
    "    5. category_list      - Category/sector of the business\n",
    "    6. country_code       - Country \n",
    "\n",
    "Please note that deleting the permalink as its duplicate of company_permalink"
   ]
  },
  {
   "cell_type": "code",
   "execution_count": 20,
   "metadata": {},
   "outputs": [
    {
     "data": {
      "text/html": [
       "<div>\n",
       "<style scoped>\n",
       "    .dataframe tbody tr th:only-of-type {\n",
       "        vertical-align: middle;\n",
       "    }\n",
       "\n",
       "    .dataframe tbody tr th {\n",
       "        vertical-align: top;\n",
       "    }\n",
       "\n",
       "    .dataframe thead th {\n",
       "        text-align: right;\n",
       "    }\n",
       "</style>\n",
       "<table border=\"1\" class=\"dataframe\">\n",
       "  <thead>\n",
       "    <tr style=\"text-align: right;\">\n",
       "      <th></th>\n",
       "      <th>company_permalink</th>\n",
       "      <th>funding_round_type</th>\n",
       "      <th>raised_amount_usd</th>\n",
       "      <th>name</th>\n",
       "      <th>category_list</th>\n",
       "      <th>country_code</th>\n",
       "    </tr>\n",
       "  </thead>\n",
       "  <tbody>\n",
       "    <tr>\n",
       "      <th>0</th>\n",
       "      <td>/organization/-fame</td>\n",
       "      <td>venture</td>\n",
       "      <td>10000000.00</td>\n",
       "      <td>#fame</td>\n",
       "      <td>Media</td>\n",
       "      <td>IND</td>\n",
       "    </tr>\n",
       "    <tr>\n",
       "      <th>1</th>\n",
       "      <td>/organization/-qounter</td>\n",
       "      <td>venture</td>\n",
       "      <td>nan</td>\n",
       "      <td>:Qounter</td>\n",
       "      <td>Application Platforms|Real Time|Social Network...</td>\n",
       "      <td>USA</td>\n",
       "    </tr>\n",
       "    <tr>\n",
       "      <th>2</th>\n",
       "      <td>/organization/-qounter</td>\n",
       "      <td>seed</td>\n",
       "      <td>700000.00</td>\n",
       "      <td>:Qounter</td>\n",
       "      <td>Application Platforms|Real Time|Social Network...</td>\n",
       "      <td>USA</td>\n",
       "    </tr>\n",
       "    <tr>\n",
       "      <th>3</th>\n",
       "      <td>/organization/-the-one-of-them-inc-</td>\n",
       "      <td>venture</td>\n",
       "      <td>3406878.00</td>\n",
       "      <td>(THE) ONE of THEM,Inc.</td>\n",
       "      <td>Apps|Games|Mobile</td>\n",
       "      <td>NaN</td>\n",
       "    </tr>\n",
       "    <tr>\n",
       "      <th>4</th>\n",
       "      <td>/organization/0-6-com</td>\n",
       "      <td>venture</td>\n",
       "      <td>2000000.00</td>\n",
       "      <td>0-6.com</td>\n",
       "      <td>Curated Web</td>\n",
       "      <td>CHN</td>\n",
       "    </tr>\n",
       "  </tbody>\n",
       "</table>\n",
       "</div>"
      ],
      "text/plain": [
       "                     company_permalink funding_round_type  raised_amount_usd  \\\n",
       "0                  /organization/-fame            venture        10000000.00   \n",
       "1               /organization/-qounter            venture                nan   \n",
       "2               /organization/-qounter               seed          700000.00   \n",
       "3  /organization/-the-one-of-them-inc-            venture         3406878.00   \n",
       "4                /organization/0-6-com            venture         2000000.00   \n",
       "\n",
       "                     name                                      category_list  \\\n",
       "0                   #fame                                              Media   \n",
       "1                :Qounter  Application Platforms|Real Time|Social Network...   \n",
       "2                :Qounter  Application Platforms|Real Time|Social Network...   \n",
       "3  (THE) ONE of THEM,Inc.                                  Apps|Games|Mobile   \n",
       "4                 0-6.com                                        Curated Web   \n",
       "\n",
       "  country_code  \n",
       "0          IND  \n",
       "1          USA  \n",
       "2          USA  \n",
       "3          NaN  \n",
       "4          CHN  "
      ]
     },
     "execution_count": 20,
     "metadata": {},
     "output_type": "execute_result"
    }
   ],
   "source": [
    "#master_frame.drop(columns = ['funding_round_permalink', 'funding_round_code', 'funded_at', 'permalink', 'homepage_url', 'status', 'state_code', 'region', 'city', 'founded_at'], inplace = True)\n",
    "master_frame = master_frame[['company_permalink', 'funding_round_type', 'raised_amount_usd', 'name', 'category_list', 'country_code']]\n",
    "master_frame.head()"
   ]
  },
  {
   "cell_type": "markdown",
   "metadata": {},
   "source": [
    "Next will see how many values are missing per column"
   ]
  },
  {
   "cell_type": "code",
   "execution_count": 21,
   "metadata": {},
   "outputs": [
    {
     "data": {
      "text/plain": [
       "company_permalink         0\n",
       "funding_round_type        0\n",
       "raised_amount_usd     19990\n",
       "name                      1\n",
       "category_list          3410\n",
       "country_code           8678\n",
       "dtype: int64"
      ]
     },
     "execution_count": 21,
     "metadata": {},
     "output_type": "execute_result"
    }
   ],
   "source": [
    "master_frame.isnull().sum()"
   ]
  },
  {
   "cell_type": "markdown",
   "metadata": {},
   "source": [
    "Will see the percentage of missing data per column"
   ]
  },
  {
   "cell_type": "code",
   "execution_count": 22,
   "metadata": {},
   "outputs": [
    {
     "data": {
      "text/plain": [
       "company_permalink     0.00\n",
       "funding_round_type    0.00\n",
       "raised_amount_usd    17.39\n",
       "name                  0.00\n",
       "category_list         2.97\n",
       "country_code          7.55\n",
       "dtype: float64"
      ]
     },
     "execution_count": 22,
     "metadata": {},
     "output_type": "execute_result"
    }
   ],
   "source": [
    "round((master_frame.isnull().sum()/len(master_frame))*100, 2)"
   ]
  },
  {
   "cell_type": "markdown",
   "metadata": {},
   "source": [
    "Spark Funds wants to choose one of the four investment types for each potential investment they will make. Considering that Spark Funds wants to invest between 5 to 15 million USD per investment round, need to find out which investment type is the most suitable for it. Also they are interested in investing only in English speaking countries and another ask is to find out the sector where most of investments are done. Given all these, the following 4 columns are directly related:\n",
    "\n",
    "    1.funding_round_type \n",
    "\n",
    "    2.raised_amount_usd\n",
    "\n",
    "    3.category_list\n",
    "\n",
    "    4.country_code\n",
    "\n",
    "From the above analysis it is clear that out of these 4 columns, except *funding_round_type* all other 3 columns has got missing value(Null Values). Also the percentage of missing values within each of these values are less than 20%. In this scnario any kind of the imputation techniques will have direct impact on the analyis. Hence going ahead with removal of the corresponding rows. "
   ]
  },
  {
   "cell_type": "code",
   "execution_count": 23,
   "metadata": {
    "scrolled": true
   },
   "outputs": [
    {
     "name": "stdout",
     "output_type": "stream",
     "text": [
      "<class 'pandas.core.frame.DataFrame'>\n",
      "Int64Index: 88529 entries, 0 to 114947\n",
      "Data columns (total 6 columns):\n",
      "company_permalink     88529 non-null object\n",
      "funding_round_type    88529 non-null object\n",
      "raised_amount_usd     88529 non-null float64\n",
      "name                  88528 non-null object\n",
      "category_list         88529 non-null object\n",
      "country_code          88529 non-null object\n",
      "dtypes: float64(1), object(5)\n",
      "memory usage: 4.7+ MB\n"
     ]
    }
   ],
   "source": [
    "master_frame = master_frame[master_frame.raised_amount_usd.notnull() &\n",
    "                            master_frame.category_list.notnull() &\n",
    "                            master_frame.country_code.notnull()]\n",
    "master_frame.info()"
   ]
  },
  {
   "cell_type": "code",
   "execution_count": 24,
   "metadata": {},
   "outputs": [
    {
     "data": {
      "text/plain": [
       "company_permalink    0.00\n",
       "funding_round_type   0.00\n",
       "raised_amount_usd    0.00\n",
       "name                 0.00\n",
       "category_list        0.00\n",
       "country_code         0.00\n",
       "dtype: float64"
      ]
     },
     "execution_count": 24,
     "metadata": {},
     "output_type": "execute_result"
    }
   ],
   "source": [
    "round((master_frame.isnull().sum()/len(master_frame))*100, 2)"
   ]
  },
  {
   "cell_type": "markdown",
   "metadata": {},
   "source": [
    "**Mean funding in USD based on Funding Type**\n",
    "\n",
    "Since Spark Fund is only interested in one of the four investment types(venture, angel, seed, and private equity) lets filter the master_frame with only these funding_round_type"
   ]
  },
  {
   "cell_type": "code",
   "execution_count": 25,
   "metadata": {
    "scrolled": false
   },
   "outputs": [
    {
     "data": {
      "text/plain": [
       "funding_round_type\n",
       "private_equity   73938486.28\n",
       "venture          11724222.69\n",
       "angel              971573.89\n",
       "seed               747793.68\n",
       "Name: raised_amount_usd, dtype: float64"
      ]
     },
     "execution_count": 25,
     "metadata": {},
     "output_type": "execute_result"
    }
   ],
   "source": [
    "list_of_category = ['venture', 'angel', 'seed', 'private_equity']\n",
    "master_frame = master_frame[master_frame['funding_round_type'].isin(list_of_category)]\n",
    "master_frame.groupby('funding_round_type')['raised_amount_usd'].mean().sort_values(ascending = False)"
   ]
  },
  {
   "cell_type": "markdown",
   "metadata": {},
   "source": [
    "Plot the average funding amount against the funding round type. "
   ]
  },
  {
   "cell_type": "code",
   "execution_count": 26,
   "metadata": {},
   "outputs": [
    {
     "data": {
      "image/png": "[encoded data removed]",
      "text/plain": [
       "<Figure size 432x288 with 1 Axes>"
      ]
     },
     "metadata": {
      "needs_background": "light"
     },
     "output_type": "display_data"
    }
   ],
   "source": [
    "sns.boxplot(x = master_frame['funding_round_type'], y= master_frame['raised_amount_usd'] )\n",
    "plt.yscale('log')\n",
    "plt.show()"
   ]
  },
  {
   "cell_type": "code",
   "execution_count": 27,
   "metadata": {
    "scrolled": false
   },
   "outputs": [
    {
     "data": {
      "image/png": "[encoded data removed]",
      "text/plain": [
       "<Figure size 432x288 with 1 Axes>"
      ]
     },
     "metadata": {
      "needs_background": "light"
     },
     "output_type": "display_data"
    }
   ],
   "source": [
    "sns.barplot(x = 'funding_round_type', y= 'raised_amount_usd', data = master_frame )\n",
    "plt.yscale('log')\n",
    "plt.title('Total amount raised in USD vs Funding Type')\n",
    "plt.show()"
   ]
  },
  {
   "cell_type": "markdown",
   "metadata": {},
   "source": [
    "**From the above analysis its clear that \"Venture\" type is most suitable for Spark Fund since they are considering investment between 5-15M USD**"
   ]
  },
  {
   "cell_type": "markdown",
   "metadata": {},
   "source": [
    "Filter the master_frame with venture type. Also drop funding_round_type column."
   ]
  },
  {
   "cell_type": "code",
   "execution_count": 28,
   "metadata": {
    "scrolled": true
   },
   "outputs": [
    {
     "data": {
      "text/html": [
       "<div>\n",
       "<style scoped>\n",
       "    .dataframe tbody tr th:only-of-type {\n",
       "        vertical-align: middle;\n",
       "    }\n",
       "\n",
       "    .dataframe tbody tr th {\n",
       "        vertical-align: top;\n",
       "    }\n",
       "\n",
       "    .dataframe thead th {\n",
       "        text-align: right;\n",
       "    }\n",
       "</style>\n",
       "<table border=\"1\" class=\"dataframe\">\n",
       "  <thead>\n",
       "    <tr style=\"text-align: right;\">\n",
       "      <th></th>\n",
       "      <th>raised_amount_usd</th>\n",
       "    </tr>\n",
       "  </thead>\n",
       "  <tbody>\n",
       "    <tr>\n",
       "      <th>count</th>\n",
       "      <td>47809.00</td>\n",
       "    </tr>\n",
       "    <tr>\n",
       "      <th>mean</th>\n",
       "      <td>11724222.69</td>\n",
       "    </tr>\n",
       "    <tr>\n",
       "      <th>std</th>\n",
       "      <td>88215713.61</td>\n",
       "    </tr>\n",
       "    <tr>\n",
       "      <th>min</th>\n",
       "      <td>0.00</td>\n",
       "    </tr>\n",
       "    <tr>\n",
       "      <th>25%</th>\n",
       "      <td>1600000.00</td>\n",
       "    </tr>\n",
       "    <tr>\n",
       "      <th>50%</th>\n",
       "      <td>5000000.00</td>\n",
       "    </tr>\n",
       "    <tr>\n",
       "      <th>75%</th>\n",
       "      <td>12000000.00</td>\n",
       "    </tr>\n",
       "    <tr>\n",
       "      <th>max</th>\n",
       "      <td>17600000000.00</td>\n",
       "    </tr>\n",
       "  </tbody>\n",
       "</table>\n",
       "</div>"
      ],
      "text/plain": [
       "       raised_amount_usd\n",
       "count           47809.00\n",
       "mean         11724222.69\n",
       "std          88215713.61\n",
       "min                 0.00\n",
       "25%           1600000.00\n",
       "50%           5000000.00\n",
       "75%          12000000.00\n",
       "max       17600000000.00"
      ]
     },
     "execution_count": 28,
     "metadata": {},
     "output_type": "execute_result"
    }
   ],
   "source": [
    "master_frame_venture = master_frame[master_frame['funding_round_type'] == 'venture']\n",
    "master_frame_venture = master_frame_venture.drop(columns = ['funding_round_type'])\n",
    "master_frame_venture.describe()"
   ]
  },
  {
   "cell_type": "code",
   "execution_count": 29,
   "metadata": {
    "scrolled": true
   },
   "outputs": [
    {
     "data": {
      "text/html": [
       "<div>\n",
       "<style scoped>\n",
       "    .dataframe tbody tr th:only-of-type {\n",
       "        vertical-align: middle;\n",
       "    }\n",
       "\n",
       "    .dataframe tbody tr th {\n",
       "        vertical-align: top;\n",
       "    }\n",
       "\n",
       "    .dataframe thead th {\n",
       "        text-align: right;\n",
       "    }\n",
       "</style>\n",
       "<table border=\"1\" class=\"dataframe\">\n",
       "  <thead>\n",
       "    <tr style=\"text-align: right;\">\n",
       "      <th></th>\n",
       "      <th>company_permalink</th>\n",
       "      <th>raised_amount_usd</th>\n",
       "      <th>name</th>\n",
       "      <th>category_list</th>\n",
       "      <th>country_code</th>\n",
       "    </tr>\n",
       "  </thead>\n",
       "  <tbody>\n",
       "    <tr>\n",
       "      <th>0</th>\n",
       "      <td>/organization/-fame</td>\n",
       "      <td>10000000.00</td>\n",
       "      <td>#fame</td>\n",
       "      <td>Media</td>\n",
       "      <td>IND</td>\n",
       "    </tr>\n",
       "    <tr>\n",
       "      <th>4</th>\n",
       "      <td>/organization/0-6-com</td>\n",
       "      <td>2000000.00</td>\n",
       "      <td>0-6.com</td>\n",
       "      <td>Curated Web</td>\n",
       "      <td>CHN</td>\n",
       "    </tr>\n",
       "    <tr>\n",
       "      <th>8</th>\n",
       "      <td>/organization/0ndine-biomedical-inc</td>\n",
       "      <td>719491.00</td>\n",
       "      <td>Ondine Biomedical Inc.</td>\n",
       "      <td>Biotechnology</td>\n",
       "      <td>CAN</td>\n",
       "    </tr>\n",
       "    <tr>\n",
       "      <th>10</th>\n",
       "      <td>/organization/0xdata</td>\n",
       "      <td>20000000.00</td>\n",
       "      <td>H2O.ai</td>\n",
       "      <td>Analytics</td>\n",
       "      <td>USA</td>\n",
       "    </tr>\n",
       "    <tr>\n",
       "      <th>11</th>\n",
       "      <td>/organization/0xdata</td>\n",
       "      <td>1700000.00</td>\n",
       "      <td>H2O.ai</td>\n",
       "      <td>Analytics</td>\n",
       "      <td>USA</td>\n",
       "    </tr>\n",
       "  </tbody>\n",
       "</table>\n",
       "</div>"
      ],
      "text/plain": [
       "                      company_permalink  raised_amount_usd  \\\n",
       "0                   /organization/-fame        10000000.00   \n",
       "4                 /organization/0-6-com         2000000.00   \n",
       "8   /organization/0ndine-biomedical-inc          719491.00   \n",
       "10                 /organization/0xdata        20000000.00   \n",
       "11                 /organization/0xdata         1700000.00   \n",
       "\n",
       "                      name  category_list country_code  \n",
       "0                    #fame          Media          IND  \n",
       "4                  0-6.com    Curated Web          CHN  \n",
       "8   Ondine Biomedical Inc.  Biotechnology          CAN  \n",
       "10                  H2O.ai      Analytics          USA  \n",
       "11                  H2O.ai      Analytics          USA  "
      ]
     },
     "execution_count": 29,
     "metadata": {},
     "output_type": "execute_result"
    }
   ],
   "source": [
    "master_frame_venture.head()"
   ]
  },
  {
   "cell_type": "markdown",
   "metadata": {},
   "source": [
    "# Top 9 Countries Based on the funding Received for Venture Funding Type"
   ]
  },
  {
   "cell_type": "markdown",
   "metadata": {},
   "source": [
    "**To find out Top9 countries based on the amount of funding they received**\n",
    "\n",
    "Now will explore the funding per Country. Top 9 Countries and the funding amount is printed below"
   ]
  },
  {
   "cell_type": "code",
   "execution_count": 30,
   "metadata": {},
   "outputs": [
    {
     "data": {
      "text/plain": [
       "country_code\n",
       "USA   420068029342.00\n",
       "CHN    39338918773.00\n",
       "GBR    20072813004.00\n",
       "IND    14261508718.00\n",
       "CAN     9482217668.00\n",
       "FRA     7226851352.00\n",
       "ISR     6854350477.00\n",
       "DEU     6306921981.00\n",
       "JPN     3167647127.00\n",
       "Name: raised_amount_usd, dtype: float64"
      ]
     },
     "execution_count": 30,
     "metadata": {},
     "output_type": "execute_result"
    }
   ],
   "source": [
    "master_frame_venture.groupby('country_code')['raised_amount_usd'].sum().sort_values(ascending = False)[:9]"
   ]
  },
  {
   "cell_type": "markdown",
   "metadata": {},
   "source": [
    "**top9 Dataframe - For the venture investment type, top9 dataframe contains the details of top nine countries (based on the total investment amount each country has received)**"
   ]
  },
  {
   "cell_type": "code",
   "execution_count": 31,
   "metadata": {},
   "outputs": [
    {
     "name": "stdout",
     "output_type": "stream",
     "text": [
      "<class 'pandas.core.frame.DataFrame'>\n",
      "Int64Index: 44118 entries, 0 to 114941\n",
      "Data columns (total 5 columns):\n",
      "company_permalink    44118 non-null object\n",
      "raised_amount_usd    44118 non-null float64\n",
      "name                 44118 non-null object\n",
      "category_list        44118 non-null object\n",
      "country_code         44118 non-null object\n",
      "dtypes: float64(1), object(4)\n",
      "memory usage: 2.0+ MB\n"
     ]
    }
   ],
   "source": [
    "top9 = master_frame_venture[master_frame_venture.country_code.isin([\"USA\",\"CHN\",\"GBR\",\"IND\",\"CAN\",\"FRA\",\"ISR\",\"DEU\",\"JPN\"])]\n",
    "top9.info()"
   ]
  },
  {
   "cell_type": "code",
   "execution_count": 32,
   "metadata": {
    "scrolled": true
   },
   "outputs": [
    {
     "data": {
      "text/html": [
       "<div>\n",
       "<style scoped>\n",
       "    .dataframe tbody tr th:only-of-type {\n",
       "        vertical-align: middle;\n",
       "    }\n",
       "\n",
       "    .dataframe tbody tr th {\n",
       "        vertical-align: top;\n",
       "    }\n",
       "\n",
       "    .dataframe thead th {\n",
       "        text-align: right;\n",
       "    }\n",
       "</style>\n",
       "<table border=\"1\" class=\"dataframe\">\n",
       "  <thead>\n",
       "    <tr style=\"text-align: right;\">\n",
       "      <th></th>\n",
       "      <th>company_permalink</th>\n",
       "      <th>raised_amount_usd</th>\n",
       "      <th>name</th>\n",
       "      <th>category_list</th>\n",
       "      <th>country_code</th>\n",
       "    </tr>\n",
       "  </thead>\n",
       "  <tbody>\n",
       "    <tr>\n",
       "      <th>0</th>\n",
       "      <td>/organization/-fame</td>\n",
       "      <td>10000000.00</td>\n",
       "      <td>#fame</td>\n",
       "      <td>Media</td>\n",
       "      <td>IND</td>\n",
       "    </tr>\n",
       "    <tr>\n",
       "      <th>4</th>\n",
       "      <td>/organization/0-6-com</td>\n",
       "      <td>2000000.00</td>\n",
       "      <td>0-6.com</td>\n",
       "      <td>Curated Web</td>\n",
       "      <td>CHN</td>\n",
       "    </tr>\n",
       "    <tr>\n",
       "      <th>8</th>\n",
       "      <td>/organization/0ndine-biomedical-inc</td>\n",
       "      <td>719491.00</td>\n",
       "      <td>Ondine Biomedical Inc.</td>\n",
       "      <td>Biotechnology</td>\n",
       "      <td>CAN</td>\n",
       "    </tr>\n",
       "    <tr>\n",
       "      <th>10</th>\n",
       "      <td>/organization/0xdata</td>\n",
       "      <td>20000000.00</td>\n",
       "      <td>H2O.ai</td>\n",
       "      <td>Analytics</td>\n",
       "      <td>USA</td>\n",
       "    </tr>\n",
       "    <tr>\n",
       "      <th>11</th>\n",
       "      <td>/organization/0xdata</td>\n",
       "      <td>1700000.00</td>\n",
       "      <td>H2O.ai</td>\n",
       "      <td>Analytics</td>\n",
       "      <td>USA</td>\n",
       "    </tr>\n",
       "  </tbody>\n",
       "</table>\n",
       "</div>"
      ],
      "text/plain": [
       "                      company_permalink  raised_amount_usd  \\\n",
       "0                   /organization/-fame        10000000.00   \n",
       "4                 /organization/0-6-com         2000000.00   \n",
       "8   /organization/0ndine-biomedical-inc          719491.00   \n",
       "10                 /organization/0xdata        20000000.00   \n",
       "11                 /organization/0xdata         1700000.00   \n",
       "\n",
       "                      name  category_list country_code  \n",
       "0                    #fame          Media          IND  \n",
       "4                  0-6.com    Curated Web          CHN  \n",
       "8   Ondine Biomedical Inc.  Biotechnology          CAN  \n",
       "10                  H2O.ai      Analytics          USA  \n",
       "11                  H2O.ai      Analytics          USA  "
      ]
     },
     "execution_count": 32,
     "metadata": {},
     "output_type": "execute_result"
    }
   ],
   "source": [
    "top9.head()"
   ]
  },
  {
   "cell_type": "markdown",
   "metadata": {},
   "source": [
    "# Top 3 English Speaking Countries based on the Amount of Fuding Received are 1. USA 2.GBR 3.IND"
   ]
  },
  {
   "cell_type": "markdown",
   "metadata": {},
   "source": [
    "**Extract the primary sector of each category list from the category_list column.**\n",
    "\n",
    "For some companies, the category list is a list of multiple sub-sectors separated by a pipe (vertical bar |). For example, one of the companies’ category_list is Application Platforms|Real Time|Social Network Media. Business rule is made that the first string before the vertical bar will be considered the primary sector. In the example above, ‘Application Platforms’ will be considered the primary sector. Will create a new column primary_sector as part of the top9 DF, based on the agreed business rule."
   ]
  },
  {
   "cell_type": "code",
   "execution_count": 33,
   "metadata": {
    "scrolled": true
   },
   "outputs": [],
   "source": [
    "top9['primary_sector'] =top9['category_list'].apply(lambda x: x.split('|')[0].lower())"
   ]
  },
  {
   "cell_type": "code",
   "execution_count": 34,
   "metadata": {},
   "outputs": [
    {
     "data": {
      "text/html": [
       "<div>\n",
       "<style scoped>\n",
       "    .dataframe tbody tr th:only-of-type {\n",
       "        vertical-align: middle;\n",
       "    }\n",
       "\n",
       "    .dataframe tbody tr th {\n",
       "        vertical-align: top;\n",
       "    }\n",
       "\n",
       "    .dataframe thead th {\n",
       "        text-align: right;\n",
       "    }\n",
       "</style>\n",
       "<table border=\"1\" class=\"dataframe\">\n",
       "  <thead>\n",
       "    <tr style=\"text-align: right;\">\n",
       "      <th></th>\n",
       "      <th>company_permalink</th>\n",
       "      <th>raised_amount_usd</th>\n",
       "      <th>name</th>\n",
       "      <th>category_list</th>\n",
       "      <th>country_code</th>\n",
       "      <th>primary_sector</th>\n",
       "    </tr>\n",
       "  </thead>\n",
       "  <tbody>\n",
       "    <tr>\n",
       "      <th>0</th>\n",
       "      <td>/organization/-fame</td>\n",
       "      <td>10000000.00</td>\n",
       "      <td>#fame</td>\n",
       "      <td>Media</td>\n",
       "      <td>IND</td>\n",
       "      <td>media</td>\n",
       "    </tr>\n",
       "    <tr>\n",
       "      <th>4</th>\n",
       "      <td>/organization/0-6-com</td>\n",
       "      <td>2000000.00</td>\n",
       "      <td>0-6.com</td>\n",
       "      <td>Curated Web</td>\n",
       "      <td>CHN</td>\n",
       "      <td>curated web</td>\n",
       "    </tr>\n",
       "    <tr>\n",
       "      <th>8</th>\n",
       "      <td>/organization/0ndine-biomedical-inc</td>\n",
       "      <td>719491.00</td>\n",
       "      <td>Ondine Biomedical Inc.</td>\n",
       "      <td>Biotechnology</td>\n",
       "      <td>CAN</td>\n",
       "      <td>biotechnology</td>\n",
       "    </tr>\n",
       "    <tr>\n",
       "      <th>10</th>\n",
       "      <td>/organization/0xdata</td>\n",
       "      <td>20000000.00</td>\n",
       "      <td>H2O.ai</td>\n",
       "      <td>Analytics</td>\n",
       "      <td>USA</td>\n",
       "      <td>analytics</td>\n",
       "    </tr>\n",
       "    <tr>\n",
       "      <th>11</th>\n",
       "      <td>/organization/0xdata</td>\n",
       "      <td>1700000.00</td>\n",
       "      <td>H2O.ai</td>\n",
       "      <td>Analytics</td>\n",
       "      <td>USA</td>\n",
       "      <td>analytics</td>\n",
       "    </tr>\n",
       "  </tbody>\n",
       "</table>\n",
       "</div>"
      ],
      "text/plain": [
       "                      company_permalink  raised_amount_usd  \\\n",
       "0                   /organization/-fame        10000000.00   \n",
       "4                 /organization/0-6-com         2000000.00   \n",
       "8   /organization/0ndine-biomedical-inc          719491.00   \n",
       "10                 /organization/0xdata        20000000.00   \n",
       "11                 /organization/0xdata         1700000.00   \n",
       "\n",
       "                      name  category_list country_code primary_sector  \n",
       "0                    #fame          Media          IND          media  \n",
       "4                  0-6.com    Curated Web          CHN    curated web  \n",
       "8   Ondine Biomedical Inc.  Biotechnology          CAN  biotechnology  \n",
       "10                  H2O.ai      Analytics          USA      analytics  \n",
       "11                  H2O.ai      Analytics          USA      analytics  "
      ]
     },
     "execution_count": 34,
     "metadata": {},
     "output_type": "execute_result"
    }
   ],
   "source": [
    "top9.head()"
   ]
  },
  {
   "cell_type": "markdown",
   "metadata": {},
   "source": [
    "**Use the mapping file 'mapping.csv' to map each primary sector to one of the eight main sectors (Note that ‘Others’ is also considered one of the main sectors)**"
   ]
  },
  {
   "cell_type": "code",
   "execution_count": 35,
   "metadata": {
    "scrolled": true
   },
   "outputs": [
    {
     "data": {
      "text/html": [
       "<div>\n",
       "<style scoped>\n",
       "    .dataframe tbody tr th:only-of-type {\n",
       "        vertical-align: middle;\n",
       "    }\n",
       "\n",
       "    .dataframe tbody tr th {\n",
       "        vertical-align: top;\n",
       "    }\n",
       "\n",
       "    .dataframe thead th {\n",
       "        text-align: right;\n",
       "    }\n",
       "</style>\n",
       "<table border=\"1\" class=\"dataframe\">\n",
       "  <thead>\n",
       "    <tr style=\"text-align: right;\">\n",
       "      <th></th>\n",
       "      <th>category_list</th>\n",
       "      <th>Automotive &amp; Sports</th>\n",
       "      <th>Blanks</th>\n",
       "      <th>Cleantech / Semiconductors</th>\n",
       "      <th>Entertainment</th>\n",
       "      <th>Health</th>\n",
       "      <th>Manufacturing</th>\n",
       "      <th>News, Search and Messaging</th>\n",
       "      <th>Others</th>\n",
       "      <th>Social, Finance, Analytics, Advertising</th>\n",
       "    </tr>\n",
       "  </thead>\n",
       "  <tbody>\n",
       "    <tr>\n",
       "      <th>0</th>\n",
       "      <td>NaN</td>\n",
       "      <td>0</td>\n",
       "      <td>1</td>\n",
       "      <td>0</td>\n",
       "      <td>0</td>\n",
       "      <td>0</td>\n",
       "      <td>0</td>\n",
       "      <td>0</td>\n",
       "      <td>0</td>\n",
       "      <td>0</td>\n",
       "    </tr>\n",
       "    <tr>\n",
       "      <th>1</th>\n",
       "      <td>3D</td>\n",
       "      <td>0</td>\n",
       "      <td>0</td>\n",
       "      <td>0</td>\n",
       "      <td>0</td>\n",
       "      <td>0</td>\n",
       "      <td>1</td>\n",
       "      <td>0</td>\n",
       "      <td>0</td>\n",
       "      <td>0</td>\n",
       "    </tr>\n",
       "    <tr>\n",
       "      <th>2</th>\n",
       "      <td>3D Printing</td>\n",
       "      <td>0</td>\n",
       "      <td>0</td>\n",
       "      <td>0</td>\n",
       "      <td>0</td>\n",
       "      <td>0</td>\n",
       "      <td>1</td>\n",
       "      <td>0</td>\n",
       "      <td>0</td>\n",
       "      <td>0</td>\n",
       "    </tr>\n",
       "    <tr>\n",
       "      <th>3</th>\n",
       "      <td>3D Technology</td>\n",
       "      <td>0</td>\n",
       "      <td>0</td>\n",
       "      <td>0</td>\n",
       "      <td>0</td>\n",
       "      <td>0</td>\n",
       "      <td>1</td>\n",
       "      <td>0</td>\n",
       "      <td>0</td>\n",
       "      <td>0</td>\n",
       "    </tr>\n",
       "    <tr>\n",
       "      <th>4</th>\n",
       "      <td>Accounting</td>\n",
       "      <td>0</td>\n",
       "      <td>0</td>\n",
       "      <td>0</td>\n",
       "      <td>0</td>\n",
       "      <td>0</td>\n",
       "      <td>0</td>\n",
       "      <td>0</td>\n",
       "      <td>0</td>\n",
       "      <td>1</td>\n",
       "    </tr>\n",
       "  </tbody>\n",
       "</table>\n",
       "</div>"
      ],
      "text/plain": [
       "   category_list  Automotive & Sports  Blanks  Cleantech / Semiconductors  \\\n",
       "0            NaN                    0       1                           0   \n",
       "1             3D                    0       0                           0   \n",
       "2    3D Printing                    0       0                           0   \n",
       "3  3D Technology                    0       0                           0   \n",
       "4     Accounting                    0       0                           0   \n",
       "\n",
       "   Entertainment  Health  Manufacturing  News, Search and Messaging  Others  \\\n",
       "0              0       0              0                           0       0   \n",
       "1              0       0              1                           0       0   \n",
       "2              0       0              1                           0       0   \n",
       "3              0       0              1                           0       0   \n",
       "4              0       0              0                           0       0   \n",
       "\n",
       "   Social, Finance, Analytics, Advertising  \n",
       "0                                        0  \n",
       "1                                        0  \n",
       "2                                        0  \n",
       "3                                        0  \n",
       "4                                        1  "
      ]
     },
     "execution_count": 35,
     "metadata": {},
     "output_type": "execute_result"
    }
   ],
   "source": [
    "#Read mapping.csv onto mapping DF. This CSV containst the mapping of category list to either of the 8 sectors.\n",
    "mapping = pd.read_csv(\"mapping.csv\", engine = 'python')\n",
    "mapping.head()"
   ]
  },
  {
   "cell_type": "code",
   "execution_count": 36,
   "metadata": {},
   "outputs": [
    {
     "data": {
      "text/html": [
       "<div>\n",
       "<style scoped>\n",
       "    .dataframe tbody tr th:only-of-type {\n",
       "        vertical-align: middle;\n",
       "    }\n",
       "\n",
       "    .dataframe tbody tr th {\n",
       "        vertical-align: top;\n",
       "    }\n",
       "\n",
       "    .dataframe thead th {\n",
       "        text-align: right;\n",
       "    }\n",
       "</style>\n",
       "<table border=\"1\" class=\"dataframe\">\n",
       "  <thead>\n",
       "    <tr style=\"text-align: right;\">\n",
       "      <th></th>\n",
       "      <th>category_list</th>\n",
       "      <th>Automotive &amp; Sports</th>\n",
       "      <th>Cleantech / Semiconductors</th>\n",
       "      <th>Entertainment</th>\n",
       "      <th>Health</th>\n",
       "      <th>Manufacturing</th>\n",
       "      <th>News, Search and Messaging</th>\n",
       "      <th>Others</th>\n",
       "      <th>Social, Finance, Analytics, Advertising</th>\n",
       "    </tr>\n",
       "  </thead>\n",
       "  <tbody>\n",
       "    <tr>\n",
       "      <th>1</th>\n",
       "      <td>3D</td>\n",
       "      <td>0</td>\n",
       "      <td>0</td>\n",
       "      <td>0</td>\n",
       "      <td>0</td>\n",
       "      <td>1</td>\n",
       "      <td>0</td>\n",
       "      <td>0</td>\n",
       "      <td>0</td>\n",
       "    </tr>\n",
       "    <tr>\n",
       "      <th>2</th>\n",
       "      <td>3D Printing</td>\n",
       "      <td>0</td>\n",
       "      <td>0</td>\n",
       "      <td>0</td>\n",
       "      <td>0</td>\n",
       "      <td>1</td>\n",
       "      <td>0</td>\n",
       "      <td>0</td>\n",
       "      <td>0</td>\n",
       "    </tr>\n",
       "    <tr>\n",
       "      <th>3</th>\n",
       "      <td>3D Technology</td>\n",
       "      <td>0</td>\n",
       "      <td>0</td>\n",
       "      <td>0</td>\n",
       "      <td>0</td>\n",
       "      <td>1</td>\n",
       "      <td>0</td>\n",
       "      <td>0</td>\n",
       "      <td>0</td>\n",
       "    </tr>\n",
       "    <tr>\n",
       "      <th>4</th>\n",
       "      <td>Accounting</td>\n",
       "      <td>0</td>\n",
       "      <td>0</td>\n",
       "      <td>0</td>\n",
       "      <td>0</td>\n",
       "      <td>0</td>\n",
       "      <td>0</td>\n",
       "      <td>0</td>\n",
       "      <td>1</td>\n",
       "    </tr>\n",
       "    <tr>\n",
       "      <th>5</th>\n",
       "      <td>Active Lifestyle</td>\n",
       "      <td>0</td>\n",
       "      <td>0</td>\n",
       "      <td>0</td>\n",
       "      <td>1</td>\n",
       "      <td>0</td>\n",
       "      <td>0</td>\n",
       "      <td>0</td>\n",
       "      <td>0</td>\n",
       "    </tr>\n",
       "  </tbody>\n",
       "</table>\n",
       "</div>"
      ],
      "text/plain": [
       "      category_list  Automotive & Sports  Cleantech / Semiconductors  \\\n",
       "1                3D                    0                           0   \n",
       "2       3D Printing                    0                           0   \n",
       "3     3D Technology                    0                           0   \n",
       "4        Accounting                    0                           0   \n",
       "5  Active Lifestyle                    0                           0   \n",
       "\n",
       "   Entertainment  Health  Manufacturing  News, Search and Messaging  Others  \\\n",
       "1              0       0              1                           0       0   \n",
       "2              0       0              1                           0       0   \n",
       "3              0       0              1                           0       0   \n",
       "4              0       0              0                           0       0   \n",
       "5              0       1              0                           0       0   \n",
       "\n",
       "   Social, Finance, Analytics, Advertising  \n",
       "1                                        0  \n",
       "2                                        0  \n",
       "3                                        0  \n",
       "4                                        1  \n",
       "5                                        0  "
      ]
     },
     "execution_count": 36,
     "metadata": {},
     "output_type": "execute_result"
    }
   ],
   "source": [
    "mapping = mapping.drop(columns = ['Blanks'])\n",
    "mapping = mapping[mapping.category_list.notnull()]\n",
    "mapping.head()"
   ]
  },
  {
   "cell_type": "code",
   "execution_count": 37,
   "metadata": {},
   "outputs": [
    {
     "data": {
      "text/html": [
       "<div>\n",
       "<style scoped>\n",
       "    .dataframe tbody tr th:only-of-type {\n",
       "        vertical-align: middle;\n",
       "    }\n",
       "\n",
       "    .dataframe tbody tr th {\n",
       "        vertical-align: top;\n",
       "    }\n",
       "\n",
       "    .dataframe thead th {\n",
       "        text-align: right;\n",
       "    }\n",
       "</style>\n",
       "<table border=\"1\" class=\"dataframe\">\n",
       "  <thead>\n",
       "    <tr style=\"text-align: right;\">\n",
       "      <th></th>\n",
       "      <th>primary_sector</th>\n",
       "      <th>main_sector</th>\n",
       "    </tr>\n",
       "  </thead>\n",
       "  <tbody>\n",
       "    <tr>\n",
       "      <th>7</th>\n",
       "      <td>Adventure Travel</td>\n",
       "      <td>Automotive &amp; Sports</td>\n",
       "    </tr>\n",
       "    <tr>\n",
       "      <th>13</th>\n",
       "      <td>Aerospace</td>\n",
       "      <td>Automotive &amp; Sports</td>\n",
       "    </tr>\n",
       "    <tr>\n",
       "      <th>44</th>\n",
       "      <td>Auto</td>\n",
       "      <td>Automotive &amp; Sports</td>\n",
       "    </tr>\n",
       "    <tr>\n",
       "      <th>45</th>\n",
       "      <td>Automated Kiosk</td>\n",
       "      <td>Automotive &amp; Sports</td>\n",
       "    </tr>\n",
       "    <tr>\n",
       "      <th>46</th>\n",
       "      <td>Automotive</td>\n",
       "      <td>Automotive &amp; Sports</td>\n",
       "    </tr>\n",
       "  </tbody>\n",
       "</table>\n",
       "</div>"
      ],
      "text/plain": [
       "      primary_sector          main_sector\n",
       "7   Adventure Travel  Automotive & Sports\n",
       "13         Aerospace  Automotive & Sports\n",
       "44              Auto  Automotive & Sports\n",
       "45   Automated Kiosk  Automotive & Sports\n",
       "46        Automotive  Automotive & Sports"
      ]
     },
     "execution_count": 37,
     "metadata": {},
     "output_type": "execute_result"
    }
   ],
   "source": [
    "# Using melt() method, which is used to un-pivot the data. To map individual sector with master sector will extract the \n",
    "# rows with mapping.value same as 1. Once extracted we will delete the value column since we already done with mapping.\n",
    "# Rename the variable column to main_sector and category_list to primary_sector.\n",
    "\n",
    "mapping = pd.melt(mapping,id_vars=[\"category_list\"])\n",
    "mapping = mapping[mapping.value == 1]\n",
    "mapping = mapping.rename(columns = {'variable':'main_sector', 'category_list':'primary_sector'})\n",
    "mapping = mapping.drop(columns = ['value'])\n",
    "mapping.head()"
   ]
  },
  {
   "cell_type": "code",
   "execution_count": 38,
   "metadata": {},
   "outputs": [],
   "source": [
    "# Convert the primary_sector column to lower case, since we already converted primary_sector columns of top9 DF to lowercase\n",
    "\n",
    "mapping['primary_sector'] = mapping.primary_sector.str.lower()"
   ]
  },
  {
   "cell_type": "markdown",
   "metadata": {},
   "source": [
    "Before merging the mapping DF to top9 DF on \"primary_sector\", explore whether all there are any primary_sector which are only in mappin csv and vice versa."
   ]
  },
  {
   "cell_type": "code",
   "execution_count": 39,
   "metadata": {},
   "outputs": [
    {
     "data": {
      "text/plain": [
       "{'0notechnology',\n",
       " '0tural language processing',\n",
       " '0tural resources',\n",
       " '0vigation',\n",
       " 'a0lytics',\n",
       " 'air pollution control',\n",
       " 'alter0tive medicine',\n",
       " 'aquaculture',\n",
       " 'big data a0lytics',\n",
       " 'biomass power generation',\n",
       " 'boating industry',\n",
       " 'building owners',\n",
       " 'business a0lytics',\n",
       " 'business travelers',\n",
       " 'can0bis',\n",
       " 'career ma0gement',\n",
       " 'casual games',\n",
       " 'charities',\n",
       " 'chi0 internet',\n",
       " 'cloud ma0gement',\n",
       " 'cloud-based music',\n",
       " 'collectibles',\n",
       " 'contact ma0gement',\n",
       " 'digital rights ma0gement',\n",
       " 'digital sig0ge',\n",
       " 'direct advertising',\n",
       " 'document ma0gement',\n",
       " 'educatio0l games',\n",
       " 'edutainment',\n",
       " 'email newsletters',\n",
       " 'energy ma0gement',\n",
       " 'energy storage',\n",
       " 'event ma0gement',\n",
       " 'farmers market',\n",
       " 'fi0nce',\n",
       " 'fi0nce technology',\n",
       " 'fi0ncial exchanges',\n",
       " 'fi0ncial services',\n",
       " 'field support services',\n",
       " 'film distribution',\n",
       " 'flash sales',\n",
       " 'fleet ma0gement',\n",
       " 'flowers',\n",
       " 'fmcg',\n",
       " 'forums',\n",
       " 'fruit',\n",
       " 'fuel cells',\n",
       " 'funeral industry',\n",
       " 'gay & lesbian',\n",
       " 'general public worldwide',\n",
       " 'genetic testing',\n",
       " 'gover0nce',\n",
       " 'green',\n",
       " 'group buying',\n",
       " 'handmade',\n",
       " 'hedge funds',\n",
       " 'home owners',\n",
       " 'home renovation',\n",
       " 'homeless shelter',\n",
       " 'ict',\n",
       " 'identity ma0gement',\n",
       " 'impact investing',\n",
       " 'independent music labels',\n",
       " 'indians',\n",
       " 'innovation ma0gement',\n",
       " 'intellectual asset ma0gement',\n",
       " 'investment ma0gement',\n",
       " 'it ma0gement',\n",
       " 'jewelry',\n",
       " 'jour0lism',\n",
       " 'k-12 education',\n",
       " 'knowledge ma0gement',\n",
       " 'landscaping',\n",
       " 'language learning',\n",
       " 'lead ma0gement',\n",
       " 'licensing',\n",
       " 'lifestyle products',\n",
       " 'local commerce',\n",
       " 'lotteries',\n",
       " 'low bid auctions',\n",
       " 'medical professio0ls',\n",
       " 'micro-enterprises',\n",
       " 'minerals',\n",
       " 'mobile a0lytics',\n",
       " 'mobile shopping',\n",
       " 'mobile social',\n",
       " 'mobile video',\n",
       " 'monetization',\n",
       " 'moneymaking',\n",
       " 'multi-level marketing',\n",
       " 'music education',\n",
       " 'music services',\n",
       " 'musical instruments',\n",
       " 'musicians',\n",
       " 'neuroscience',\n",
       " 'new product development',\n",
       " 'oil and gas',\n",
       " 'organic',\n",
       " 'parenting',\n",
       " 'performance marketing',\n",
       " 'perso0l branding',\n",
       " 'perso0l data',\n",
       " 'perso0l fi0nce',\n",
       " 'perso0l health',\n",
       " 'perso0lization',\n",
       " 'pervasive computing',\n",
       " 'plumbers',\n",
       " 'postal and courier services',\n",
       " 'predictive a0lytics',\n",
       " 'private social networking',\n",
       " 'productivity',\n",
       " 'professio0l networking',\n",
       " 'professio0l services',\n",
       " 'project ma0gement',\n",
       " 'promotio0l',\n",
       " 'property ma0gement',\n",
       " 'q&a',\n",
       " 'realtors',\n",
       " 'renewable tech',\n",
       " 'rental housing',\n",
       " 'ride sharing',\n",
       " 'risk ma0gement',\n",
       " 'senior health',\n",
       " 'shared services',\n",
       " 'shipping',\n",
       " 'shoes',\n",
       " 'simulation',\n",
       " 'small and medium businesses',\n",
       " 'smart grid',\n",
       " 'sns',\n",
       " 'social bookmarking',\n",
       " 'social business',\n",
       " 'social media ma0gement',\n",
       " 'social media platforms',\n",
       " 'social recruiting',\n",
       " 'speech recognition',\n",
       " 'subscription service',\n",
       " 'supply chain ma0gement',\n",
       " 'surveys',\n",
       " 'task ma0gement',\n",
       " 'taxis',\n",
       " 'tourism',\n",
       " 'universities',\n",
       " 'university students',\n",
       " 'unmanned air systems',\n",
       " 'usability',\n",
       " 'user experience design',\n",
       " 'vending and concessions',\n",
       " 'veteri0ry',\n",
       " 'video streaming',\n",
       " 'virtual workforces',\n",
       " 'waste ma0gement',\n",
       " 'weddings',\n",
       " 'wholesale',\n",
       " 'women'}"
      ]
     },
     "execution_count": 39,
     "metadata": {},
     "output_type": "execute_result"
    }
   ],
   "source": [
    "set(mapping.primary_sector).difference(set(top9.primary_sector))"
   ]
  },
  {
   "cell_type": "code",
   "execution_count": 40,
   "metadata": {
    "scrolled": true
   },
   "outputs": [
    {
     "data": {
      "text/plain": [
       "{'adaptive equipment',\n",
       " 'alternative medicine',\n",
       " 'analytics',\n",
       " 'big data analytics',\n",
       " 'biotechnology and semiconductor',\n",
       " 'business analytics',\n",
       " 'cannabis',\n",
       " 'career management',\n",
       " 'china internet',\n",
       " 'cloud management',\n",
       " 'contact management',\n",
       " 'digital rights management',\n",
       " 'digital signage',\n",
       " 'document management',\n",
       " 'educational games',\n",
       " 'energy management',\n",
       " 'event management',\n",
       " 'finance',\n",
       " 'finance technology',\n",
       " 'financial exchanges',\n",
       " 'financial services',\n",
       " 'fleet management',\n",
       " 'governance',\n",
       " 'greentech',\n",
       " 'identity management',\n",
       " 'innovation management',\n",
       " 'intellectual asset management',\n",
       " 'investment management',\n",
       " 'it management',\n",
       " 'journalism',\n",
       " 'knowledge management',\n",
       " 'lead management',\n",
       " 'mobile analytics',\n",
       " 'nanotechnology',\n",
       " 'natural gas uses',\n",
       " 'natural language processing',\n",
       " 'natural resources',\n",
       " 'navigation',\n",
       " 'personal finance',\n",
       " 'personalization',\n",
       " 'predictive analytics',\n",
       " 'product search',\n",
       " 'professional networking',\n",
       " 'professional services',\n",
       " 'project management',\n",
       " 'promotional',\n",
       " 'property management',\n",
       " 'racing',\n",
       " 'rapidly expanding',\n",
       " 'retirement',\n",
       " 'risk management',\n",
       " 'specialty retail',\n",
       " 'supply chain management',\n",
       " 'task management',\n",
       " 'waste management'}"
      ]
     },
     "execution_count": 40,
     "metadata": {},
     "output_type": "execute_result"
    }
   ],
   "source": [
    "set(top9.primary_sector).difference(set(mapping.primary_sector))"
   ]
  },
  {
   "cell_type": "markdown",
   "metadata": {},
   "source": [
    "From the above analysis it is clear that most of the differences are due to mistake in mapping data frame. For example in mapping dataframe 'nanotechnology' is mispelled as '0notechnology' and 'navigation' as 0vigation.\n",
    "\n",
    "Will correct this using pands.Series.str.replace method. It accepts regex pattern and apply it over each data in the series. Will replace all the '0' with 'na'. But only one exception that dont convert 0 in the pattern 1.0 or 2.0 to na."
   ]
  },
  {
   "cell_type": "code",
   "execution_count": 41,
   "metadata": {},
   "outputs": [],
   "source": [
    "#Regex pattern for negative look behind (this will ensure 0s in the 1.0 or 2.0 formats wont be matched)\n",
    "pat = r\"(?<!\\.)0\"\n",
    "mapping.primary_sector = mapping.primary_sector.str.replace(pat, 'na', regex=True)"
   ]
  },
  {
   "cell_type": "markdown",
   "metadata": {},
   "source": [
    "Find out the primary_sector data which are only present in top9. Corresponding rows will be eliminated after merging"
   ]
  },
  {
   "cell_type": "code",
   "execution_count": 42,
   "metadata": {
    "scrolled": true
   },
   "outputs": [
    {
     "data": {
      "text/plain": [
       "{'adaptive equipment',\n",
       " 'biotechnology and semiconductor',\n",
       " 'greentech',\n",
       " 'natural gas uses',\n",
       " 'product search',\n",
       " 'racing',\n",
       " 'rapidly expanding',\n",
       " 'retirement',\n",
       " 'specialty retail'}"
      ]
     },
     "execution_count": 42,
     "metadata": {},
     "output_type": "execute_result"
    }
   ],
   "source": [
    "set(top9.primary_sector).difference(set(mapping.primary_sector))"
   ]
  },
  {
   "cell_type": "code",
   "execution_count": 43,
   "metadata": {},
   "outputs": [
    {
     "data": {
      "text/html": [
       "<div>\n",
       "<style scoped>\n",
       "    .dataframe tbody tr th:only-of-type {\n",
       "        vertical-align: middle;\n",
       "    }\n",
       "\n",
       "    .dataframe tbody tr th {\n",
       "        vertical-align: top;\n",
       "    }\n",
       "\n",
       "    .dataframe thead th {\n",
       "        text-align: right;\n",
       "    }\n",
       "</style>\n",
       "<table border=\"1\" class=\"dataframe\">\n",
       "  <thead>\n",
       "    <tr style=\"text-align: right;\">\n",
       "      <th></th>\n",
       "      <th>company_permalink</th>\n",
       "      <th>raised_amount_usd</th>\n",
       "      <th>name</th>\n",
       "      <th>category_list</th>\n",
       "      <th>country_code</th>\n",
       "      <th>primary_sector</th>\n",
       "      <th>main_sector</th>\n",
       "    </tr>\n",
       "  </thead>\n",
       "  <tbody>\n",
       "    <tr>\n",
       "      <th>0</th>\n",
       "      <td>/organization/-fame</td>\n",
       "      <td>10000000.00</td>\n",
       "      <td>#fame</td>\n",
       "      <td>Media</td>\n",
       "      <td>IND</td>\n",
       "      <td>media</td>\n",
       "      <td>Entertainment</td>\n",
       "    </tr>\n",
       "    <tr>\n",
       "      <th>1</th>\n",
       "      <td>/organization/90min</td>\n",
       "      <td>15000000.00</td>\n",
       "      <td>90min</td>\n",
       "      <td>Media|News|Publishing|Soccer|Sports</td>\n",
       "      <td>GBR</td>\n",
       "      <td>media</td>\n",
       "      <td>Entertainment</td>\n",
       "    </tr>\n",
       "    <tr>\n",
       "      <th>2</th>\n",
       "      <td>/organization/90min</td>\n",
       "      <td>5800000.00</td>\n",
       "      <td>90min</td>\n",
       "      <td>Media|News|Publishing|Soccer|Sports</td>\n",
       "      <td>GBR</td>\n",
       "      <td>media</td>\n",
       "      <td>Entertainment</td>\n",
       "    </tr>\n",
       "    <tr>\n",
       "      <th>3</th>\n",
       "      <td>/organization/90min</td>\n",
       "      <td>18000000.00</td>\n",
       "      <td>90min</td>\n",
       "      <td>Media|News|Publishing|Soccer|Sports</td>\n",
       "      <td>GBR</td>\n",
       "      <td>media</td>\n",
       "      <td>Entertainment</td>\n",
       "    </tr>\n",
       "    <tr>\n",
       "      <th>4</th>\n",
       "      <td>/organization/all-def-digital</td>\n",
       "      <td>5000000.00</td>\n",
       "      <td>All Def Digital</td>\n",
       "      <td>Media</td>\n",
       "      <td>USA</td>\n",
       "      <td>media</td>\n",
       "      <td>Entertainment</td>\n",
       "    </tr>\n",
       "  </tbody>\n",
       "</table>\n",
       "</div>"
      ],
      "text/plain": [
       "               company_permalink  raised_amount_usd             name  \\\n",
       "0            /organization/-fame        10000000.00            #fame   \n",
       "1            /organization/90min        15000000.00            90min   \n",
       "2            /organization/90min         5800000.00            90min   \n",
       "3            /organization/90min        18000000.00            90min   \n",
       "4  /organization/all-def-digital         5000000.00  All Def Digital   \n",
       "\n",
       "                         category_list country_code primary_sector  \\\n",
       "0                                Media          IND          media   \n",
       "1  Media|News|Publishing|Soccer|Sports          GBR          media   \n",
       "2  Media|News|Publishing|Soccer|Sports          GBR          media   \n",
       "3  Media|News|Publishing|Soccer|Sports          GBR          media   \n",
       "4                                Media          USA          media   \n",
       "\n",
       "     main_sector  \n",
       "0  Entertainment  \n",
       "1  Entertainment  \n",
       "2  Entertainment  \n",
       "3  Entertainment  \n",
       "4  Entertainment  "
      ]
     },
     "execution_count": 43,
     "metadata": {},
     "output_type": "execute_result"
    }
   ],
   "source": [
    "top9 = top9.merge(mapping, on ='primary_sector')\n",
    "top9.head()"
   ]
  },
  {
   "cell_type": "code",
   "execution_count": 44,
   "metadata": {},
   "outputs": [
    {
     "name": "stdout",
     "output_type": "stream",
     "text": [
      "<class 'pandas.core.frame.DataFrame'>\n",
      "Int64Index: 44107 entries, 0 to 44106\n",
      "Data columns (total 6 columns):\n",
      "company_permalink    44107 non-null object\n",
      "raised_amount_usd    44107 non-null float64\n",
      "name                 44107 non-null object\n",
      "country_code         44107 non-null object\n",
      "primary_sector       44107 non-null object\n",
      "main_sector          44107 non-null object\n",
      "dtypes: float64(1), object(5)\n",
      "memory usage: 2.4+ MB\n"
     ]
    }
   ],
   "source": [
    "#Remove category_list columns as the column is no more useful\n",
    "top9 = top9.drop(columns = ['category_list'])\n",
    "top9.info()"
   ]
  },
  {
   "cell_type": "markdown",
   "metadata": {},
   "source": [
    "# Sector Wise Analysis For Top 3 English Speaking Countries"
   ]
  },
  {
   "cell_type": "markdown",
   "metadata": {},
   "source": [
    "<h3> Creating D1 for USA </h3>"
   ]
  },
  {
   "cell_type": "code",
   "execution_count": 45,
   "metadata": {},
   "outputs": [],
   "source": [
    "# Dataframe for top english speaking company -USA\n",
    "# Extract the rows for USA where 5000000>=raised_amount_usd <= 15000000\n",
    "D1 = top9[(top9['country_code'] == 'USA') & \n",
    "          (top9['raised_amount_usd'] >= 5000000) & \n",
    "          (top9['raised_amount_usd'] <= 15000000)]"
   ]
  },
  {
   "cell_type": "code",
   "execution_count": 46,
   "metadata": {},
   "outputs": [
    {
     "name": "stdout",
     "output_type": "stream",
     "text": [
      "<class 'pandas.core.frame.DataFrame'>\n",
      "Int64Index: 12063 entries, 4 to 44099\n",
      "Data columns (total 6 columns):\n",
      "company_permalink    12063 non-null object\n",
      "raised_amount_usd    12063 non-null float64\n",
      "name                 12063 non-null object\n",
      "country_code         12063 non-null object\n",
      "primary_sector       12063 non-null object\n",
      "main_sector          12063 non-null object\n",
      "dtypes: float64(1), object(5)\n",
      "memory usage: 659.7+ KB\n"
     ]
    }
   ],
   "source": [
    "D1.info()"
   ]
  },
  {
   "cell_type": "markdown",
   "metadata": {},
   "source": [
    "**Count of venture type investments in USA, for rangs 5M>= x <=15M USD is : 12063**"
   ]
  },
  {
   "cell_type": "code",
   "execution_count": 47,
   "metadata": {},
   "outputs": [
    {
     "data": {
      "text/html": [
       "<div>\n",
       "<style scoped>\n",
       "    .dataframe tbody tr th:only-of-type {\n",
       "        vertical-align: middle;\n",
       "    }\n",
       "\n",
       "    .dataframe tbody tr th {\n",
       "        vertical-align: top;\n",
       "    }\n",
       "\n",
       "    .dataframe thead th {\n",
       "        text-align: right;\n",
       "    }\n",
       "</style>\n",
       "<table border=\"1\" class=\"dataframe\">\n",
       "  <thead>\n",
       "    <tr style=\"text-align: right;\">\n",
       "      <th></th>\n",
       "      <th>company_permalink</th>\n",
       "      <th>raised_amount_usd</th>\n",
       "      <th>name</th>\n",
       "      <th>country_code</th>\n",
       "      <th>primary_sector</th>\n",
       "      <th>main_sector</th>\n",
       "    </tr>\n",
       "  </thead>\n",
       "  <tbody>\n",
       "    <tr>\n",
       "      <th>4</th>\n",
       "      <td>/organization/all-def-digital</td>\n",
       "      <td>5000000.00</td>\n",
       "      <td>All Def Digital</td>\n",
       "      <td>USA</td>\n",
       "      <td>media</td>\n",
       "      <td>Entertainment</td>\n",
       "    </tr>\n",
       "    <tr>\n",
       "      <th>14</th>\n",
       "      <td>/organization/chefs-feed</td>\n",
       "      <td>5000000.00</td>\n",
       "      <td>ChefsFeed</td>\n",
       "      <td>USA</td>\n",
       "      <td>media</td>\n",
       "      <td>Entertainment</td>\n",
       "    </tr>\n",
       "    <tr>\n",
       "      <th>20</th>\n",
       "      <td>/organization/huffingtonpost</td>\n",
       "      <td>5000000.00</td>\n",
       "      <td>The Huffington Post</td>\n",
       "      <td>USA</td>\n",
       "      <td>media</td>\n",
       "      <td>Entertainment</td>\n",
       "    </tr>\n",
       "    <tr>\n",
       "      <th>21</th>\n",
       "      <td>/organization/huffingtonpost</td>\n",
       "      <td>5000000.00</td>\n",
       "      <td>The Huffington Post</td>\n",
       "      <td>USA</td>\n",
       "      <td>media</td>\n",
       "      <td>Entertainment</td>\n",
       "    </tr>\n",
       "    <tr>\n",
       "      <th>26</th>\n",
       "      <td>/organization/matchmine</td>\n",
       "      <td>10000000.00</td>\n",
       "      <td>MatchMine</td>\n",
       "      <td>USA</td>\n",
       "      <td>media</td>\n",
       "      <td>Entertainment</td>\n",
       "    </tr>\n",
       "  </tbody>\n",
       "</table>\n",
       "</div>"
      ],
      "text/plain": [
       "                company_permalink  raised_amount_usd                 name  \\\n",
       "4   /organization/all-def-digital         5000000.00      All Def Digital   \n",
       "14       /organization/chefs-feed         5000000.00            ChefsFeed   \n",
       "20   /organization/huffingtonpost         5000000.00  The Huffington Post   \n",
       "21   /organization/huffingtonpost         5000000.00  The Huffington Post   \n",
       "26        /organization/matchmine        10000000.00            MatchMine   \n",
       "\n",
       "   country_code primary_sector    main_sector  \n",
       "4           USA          media  Entertainment  \n",
       "14          USA          media  Entertainment  \n",
       "20          USA          media  Entertainment  \n",
       "21          USA          media  Entertainment  \n",
       "26          USA          media  Entertainment  "
      ]
     },
     "execution_count": 47,
     "metadata": {},
     "output_type": "execute_result"
    }
   ],
   "source": [
    "D1.head()"
   ]
  },
  {
   "cell_type": "code",
   "execution_count": 48,
   "metadata": {},
   "outputs": [
    {
     "data": {
      "text/plain": [
       "107757097294.0"
      ]
     },
     "execution_count": 48,
     "metadata": {},
     "output_type": "execute_result"
    }
   ],
   "source": [
    "D1.raised_amount_usd.sum()"
   ]
  },
  {
   "cell_type": "markdown",
   "metadata": {},
   "source": [
    "**Total amount of investment (USD) for venture type is: 107757097294.0**"
   ]
  },
  {
   "cell_type": "code",
   "execution_count": 49,
   "metadata": {},
   "outputs": [],
   "source": [
    "#lets create a category wise tavle for USA.\n",
    "D1_cat_table = D1.pivot_table( values = 'raised_amount_usd', index = ['main_sector'], aggfunc  = ['count', 'sum'])"
   ]
  },
  {
   "cell_type": "code",
   "execution_count": 50,
   "metadata": {
    "scrolled": true
   },
   "outputs": [],
   "source": [
    "#After pivot_table columns will be multi index, flatten it.\n",
    "D1_cat_table.columns = D1_cat_table.columns.get_level_values(0)\n",
    "D1_cat_table = D1_cat_table.rename(columns = {'count':'total_number_of_investment', 'sum':'total_amount_invested'})"
   ]
  },
  {
   "cell_type": "markdown",
   "metadata": {},
   "source": [
    "<h4> Sector Analyis for USA </h4>"
   ]
  },
  {
   "cell_type": "code",
   "execution_count": 51,
   "metadata": {},
   "outputs": [
    {
     "data": {
      "text/html": [
       "<div>\n",
       "<style scoped>\n",
       "    .dataframe tbody tr th:only-of-type {\n",
       "        vertical-align: middle;\n",
       "    }\n",
       "\n",
       "    .dataframe tbody tr th {\n",
       "        vertical-align: top;\n",
       "    }\n",
       "\n",
       "    .dataframe thead th {\n",
       "        text-align: right;\n",
       "    }\n",
       "</style>\n",
       "<table border=\"1\" class=\"dataframe\">\n",
       "  <thead>\n",
       "    <tr style=\"text-align: right;\">\n",
       "      <th></th>\n",
       "      <th>total_number_of_investment</th>\n",
       "      <th>total_amount_invested</th>\n",
       "    </tr>\n",
       "    <tr>\n",
       "      <th>main_sector</th>\n",
       "      <th></th>\n",
       "      <th></th>\n",
       "    </tr>\n",
       "  </thead>\n",
       "  <tbody>\n",
       "    <tr>\n",
       "      <th>Others</th>\n",
       "      <td>2950</td>\n",
       "      <td>26321007002.00</td>\n",
       "    </tr>\n",
       "    <tr>\n",
       "      <th>Social, Finance, Analytics, Advertising</th>\n",
       "      <td>2714</td>\n",
       "      <td>23807376964.00</td>\n",
       "    </tr>\n",
       "    <tr>\n",
       "      <th>Cleantech / Semiconductors</th>\n",
       "      <td>2350</td>\n",
       "      <td>21633430822.00</td>\n",
       "    </tr>\n",
       "    <tr>\n",
       "      <th>News, Search and Messaging</th>\n",
       "      <td>1583</td>\n",
       "      <td>13971567428.00</td>\n",
       "    </tr>\n",
       "    <tr>\n",
       "      <th>Health</th>\n",
       "      <td>909</td>\n",
       "      <td>8211859357.00</td>\n",
       "    </tr>\n",
       "    <tr>\n",
       "      <th>Manufacturing</th>\n",
       "      <td>799</td>\n",
       "      <td>7258553378.00</td>\n",
       "    </tr>\n",
       "    <tr>\n",
       "      <th>Entertainment</th>\n",
       "      <td>591</td>\n",
       "      <td>5099197982.00</td>\n",
       "    </tr>\n",
       "    <tr>\n",
       "      <th>Automotive &amp; Sports</th>\n",
       "      <td>167</td>\n",
       "      <td>1454104361.00</td>\n",
       "    </tr>\n",
       "  </tbody>\n",
       "</table>\n",
       "</div>"
      ],
      "text/plain": [
       "                                         total_number_of_investment  \\\n",
       "main_sector                                                           \n",
       "Others                                                         2950   \n",
       "Social, Finance, Analytics, Advertising                        2714   \n",
       "Cleantech / Semiconductors                                     2350   \n",
       "News, Search and Messaging                                     1583   \n",
       "Health                                                          909   \n",
       "Manufacturing                                                   799   \n",
       "Entertainment                                                   591   \n",
       "Automotive & Sports                                             167   \n",
       "\n",
       "                                         total_amount_invested  \n",
       "main_sector                                                     \n",
       "Others                                          26321007002.00  \n",
       "Social, Finance, Analytics, Advertising         23807376964.00  \n",
       "Cleantech / Semiconductors                      21633430822.00  \n",
       "News, Search and Messaging                      13971567428.00  \n",
       "Health                                           8211859357.00  \n",
       "Manufacturing                                    7258553378.00  \n",
       "Entertainment                                    5099197982.00  \n",
       "Automotive & Sports                              1454104361.00  "
      ]
     },
     "execution_count": 51,
     "metadata": {},
     "output_type": "execute_result"
    }
   ],
   "source": [
    "D1_cat_table = D1_cat_table.sort_values(by = ['total_number_of_investment'], ascending = False)\n",
    "D1_cat_table"
   ]
  },
  {
   "cell_type": "code",
   "execution_count": 52,
   "metadata": {},
   "outputs": [],
   "source": [
    "#Merge the total_number_of_investment and total_amount_invested on to D1 table\n",
    "D1 = D1.merge(D1_cat_table, on = 'main_sector')"
   ]
  },
  {
   "cell_type": "code",
   "execution_count": 53,
   "metadata": {
    "scrolled": true
   },
   "outputs": [
    {
     "name": "stdout",
     "output_type": "stream",
     "text": [
      "<class 'pandas.core.frame.DataFrame'>\n",
      "Int64Index: 12063 entries, 0 to 12062\n",
      "Data columns (total 8 columns):\n",
      "company_permalink             12063 non-null object\n",
      "raised_amount_usd             12063 non-null float64\n",
      "name                          12063 non-null object\n",
      "country_code                  12063 non-null object\n",
      "primary_sector                12063 non-null object\n",
      "main_sector                   12063 non-null object\n",
      "total_number_of_investment    12063 non-null int64\n",
      "total_amount_invested         12063 non-null float64\n",
      "dtypes: float64(2), int64(1), object(5)\n",
      "memory usage: 848.2+ KB\n"
     ]
    }
   ],
   "source": [
    "D1.info()"
   ]
  },
  {
   "cell_type": "code",
   "execution_count": 54,
   "metadata": {},
   "outputs": [
    {
     "data": {
      "text/html": [
       "<div>\n",
       "<style scoped>\n",
       "    .dataframe tbody tr th:only-of-type {\n",
       "        vertical-align: middle;\n",
       "    }\n",
       "\n",
       "    .dataframe tbody tr th {\n",
       "        vertical-align: top;\n",
       "    }\n",
       "\n",
       "    .dataframe thead th {\n",
       "        text-align: right;\n",
       "    }\n",
       "</style>\n",
       "<table border=\"1\" class=\"dataframe\">\n",
       "  <thead>\n",
       "    <tr style=\"text-align: right;\">\n",
       "      <th></th>\n",
       "      <th>company_permalink</th>\n",
       "      <th>raised_amount_usd</th>\n",
       "      <th>name</th>\n",
       "      <th>country_code</th>\n",
       "      <th>primary_sector</th>\n",
       "      <th>main_sector</th>\n",
       "      <th>total_number_of_investment</th>\n",
       "      <th>total_amount_invested</th>\n",
       "    </tr>\n",
       "  </thead>\n",
       "  <tbody>\n",
       "    <tr>\n",
       "      <th>0</th>\n",
       "      <td>/organization/all-def-digital</td>\n",
       "      <td>5000000.00</td>\n",
       "      <td>All Def Digital</td>\n",
       "      <td>USA</td>\n",
       "      <td>media</td>\n",
       "      <td>Entertainment</td>\n",
       "      <td>591</td>\n",
       "      <td>5099197982.00</td>\n",
       "    </tr>\n",
       "    <tr>\n",
       "      <th>1</th>\n",
       "      <td>/organization/chefs-feed</td>\n",
       "      <td>5000000.00</td>\n",
       "      <td>ChefsFeed</td>\n",
       "      <td>USA</td>\n",
       "      <td>media</td>\n",
       "      <td>Entertainment</td>\n",
       "      <td>591</td>\n",
       "      <td>5099197982.00</td>\n",
       "    </tr>\n",
       "    <tr>\n",
       "      <th>2</th>\n",
       "      <td>/organization/huffingtonpost</td>\n",
       "      <td>5000000.00</td>\n",
       "      <td>The Huffington Post</td>\n",
       "      <td>USA</td>\n",
       "      <td>media</td>\n",
       "      <td>Entertainment</td>\n",
       "      <td>591</td>\n",
       "      <td>5099197982.00</td>\n",
       "    </tr>\n",
       "    <tr>\n",
       "      <th>3</th>\n",
       "      <td>/organization/huffingtonpost</td>\n",
       "      <td>5000000.00</td>\n",
       "      <td>The Huffington Post</td>\n",
       "      <td>USA</td>\n",
       "      <td>media</td>\n",
       "      <td>Entertainment</td>\n",
       "      <td>591</td>\n",
       "      <td>5099197982.00</td>\n",
       "    </tr>\n",
       "    <tr>\n",
       "      <th>4</th>\n",
       "      <td>/organization/matchmine</td>\n",
       "      <td>10000000.00</td>\n",
       "      <td>MatchMine</td>\n",
       "      <td>USA</td>\n",
       "      <td>media</td>\n",
       "      <td>Entertainment</td>\n",
       "      <td>591</td>\n",
       "      <td>5099197982.00</td>\n",
       "    </tr>\n",
       "  </tbody>\n",
       "</table>\n",
       "</div>"
      ],
      "text/plain": [
       "               company_permalink  raised_amount_usd                 name  \\\n",
       "0  /organization/all-def-digital         5000000.00      All Def Digital   \n",
       "1       /organization/chefs-feed         5000000.00            ChefsFeed   \n",
       "2   /organization/huffingtonpost         5000000.00  The Huffington Post   \n",
       "3   /organization/huffingtonpost         5000000.00  The Huffington Post   \n",
       "4        /organization/matchmine        10000000.00            MatchMine   \n",
       "\n",
       "  country_code primary_sector    main_sector  total_number_of_investment  \\\n",
       "0          USA          media  Entertainment                         591   \n",
       "1          USA          media  Entertainment                         591   \n",
       "2          USA          media  Entertainment                         591   \n",
       "3          USA          media  Entertainment                         591   \n",
       "4          USA          media  Entertainment                         591   \n",
       "\n",
       "   total_amount_invested  \n",
       "0          5099197982.00  \n",
       "1          5099197982.00  \n",
       "2          5099197982.00  \n",
       "3          5099197982.00  \n",
       "4          5099197982.00  "
      ]
     },
     "execution_count": 54,
     "metadata": {},
     "output_type": "execute_result"
    }
   ],
   "source": [
    "D1.head()"
   ]
  },
  {
   "cell_type": "markdown",
   "metadata": {},
   "source": [
    "<h3> Creating D2 for GBR </h3>"
   ]
  },
  {
   "cell_type": "code",
   "execution_count": 55,
   "metadata": {},
   "outputs": [],
   "source": [
    "# Dataframe for second english speaking company -GBR\n",
    "# Extract the rows for GBR where 5000000>=raised_amount_usd <= 15000000\n",
    "D2 = top9[(top9['country_code'] == 'GBR') & \n",
    "          (top9['raised_amount_usd'] >= 5000000) & \n",
    "          (top9['raised_amount_usd'] <= 15000000)]"
   ]
  },
  {
   "cell_type": "code",
   "execution_count": 56,
   "metadata": {},
   "outputs": [
    {
     "name": "stdout",
     "output_type": "stream",
     "text": [
      "<class 'pandas.core.frame.DataFrame'>\n",
      "Int64Index: 621 entries, 1 to 44094\n",
      "Data columns (total 6 columns):\n",
      "company_permalink    621 non-null object\n",
      "raised_amount_usd    621 non-null float64\n",
      "name                 621 non-null object\n",
      "country_code         621 non-null object\n",
      "primary_sector       621 non-null object\n",
      "main_sector          621 non-null object\n",
      "dtypes: float64(1), object(5)\n",
      "memory usage: 34.0+ KB\n"
     ]
    }
   ],
   "source": [
    "D2.info()"
   ]
  },
  {
   "cell_type": "markdown",
   "metadata": {},
   "source": [
    "**Count of venture type investments in GBR, for range 5M>= x <=15M USD is : 621**"
   ]
  },
  {
   "cell_type": "code",
   "execution_count": 57,
   "metadata": {
    "scrolled": false
   },
   "outputs": [
    {
     "data": {
      "text/html": [
       "<div>\n",
       "<style scoped>\n",
       "    .dataframe tbody tr th:only-of-type {\n",
       "        vertical-align: middle;\n",
       "    }\n",
       "\n",
       "    .dataframe tbody tr th {\n",
       "        vertical-align: top;\n",
       "    }\n",
       "\n",
       "    .dataframe thead th {\n",
       "        text-align: right;\n",
       "    }\n",
       "</style>\n",
       "<table border=\"1\" class=\"dataframe\">\n",
       "  <thead>\n",
       "    <tr style=\"text-align: right;\">\n",
       "      <th></th>\n",
       "      <th>company_permalink</th>\n",
       "      <th>raised_amount_usd</th>\n",
       "      <th>name</th>\n",
       "      <th>country_code</th>\n",
       "      <th>primary_sector</th>\n",
       "      <th>main_sector</th>\n",
       "    </tr>\n",
       "  </thead>\n",
       "  <tbody>\n",
       "    <tr>\n",
       "      <th>1</th>\n",
       "      <td>/organization/90min</td>\n",
       "      <td>15000000.00</td>\n",
       "      <td>90min</td>\n",
       "      <td>GBR</td>\n",
       "      <td>media</td>\n",
       "      <td>Entertainment</td>\n",
       "    </tr>\n",
       "    <tr>\n",
       "      <th>2</th>\n",
       "      <td>/organization/90min</td>\n",
       "      <td>5800000.00</td>\n",
       "      <td>90min</td>\n",
       "      <td>GBR</td>\n",
       "      <td>media</td>\n",
       "      <td>Entertainment</td>\n",
       "    </tr>\n",
       "    <tr>\n",
       "      <th>114</th>\n",
       "      <td>/organization/azimo</td>\n",
       "      <td>10000000.00</td>\n",
       "      <td>Azimo</td>\n",
       "      <td>GBR</td>\n",
       "      <td>curated web</td>\n",
       "      <td>News, Search and Messaging</td>\n",
       "    </tr>\n",
       "    <tr>\n",
       "      <th>125</th>\n",
       "      <td>/organization/basekit-platform</td>\n",
       "      <td>7000000.00</td>\n",
       "      <td>BaseKit</td>\n",
       "      <td>GBR</td>\n",
       "      <td>curated web</td>\n",
       "      <td>News, Search and Messaging</td>\n",
       "    </tr>\n",
       "    <tr>\n",
       "      <th>126</th>\n",
       "      <td>/organization/basekit-platform</td>\n",
       "      <td>6818631.00</td>\n",
       "      <td>BaseKit</td>\n",
       "      <td>GBR</td>\n",
       "      <td>curated web</td>\n",
       "      <td>News, Search and Messaging</td>\n",
       "    </tr>\n",
       "  </tbody>\n",
       "</table>\n",
       "</div>"
      ],
      "text/plain": [
       "                  company_permalink  raised_amount_usd     name country_code  \\\n",
       "1               /organization/90min        15000000.00    90min          GBR   \n",
       "2               /organization/90min         5800000.00    90min          GBR   \n",
       "114             /organization/azimo        10000000.00    Azimo          GBR   \n",
       "125  /organization/basekit-platform         7000000.00  BaseKit          GBR   \n",
       "126  /organization/basekit-platform         6818631.00  BaseKit          GBR   \n",
       "\n",
       "    primary_sector                 main_sector  \n",
       "1            media               Entertainment  \n",
       "2            media               Entertainment  \n",
       "114    curated web  News, Search and Messaging  \n",
       "125    curated web  News, Search and Messaging  \n",
       "126    curated web  News, Search and Messaging  "
      ]
     },
     "execution_count": 57,
     "metadata": {},
     "output_type": "execute_result"
    }
   ],
   "source": [
    "D2.head()"
   ]
  },
  {
   "cell_type": "code",
   "execution_count": 58,
   "metadata": {},
   "outputs": [
    {
     "data": {
      "text/plain": [
       "5379078691.0"
      ]
     },
     "execution_count": 58,
     "metadata": {},
     "output_type": "execute_result"
    }
   ],
   "source": [
    "D2.raised_amount_usd.sum()"
   ]
  },
  {
   "cell_type": "markdown",
   "metadata": {},
   "source": [
    "**Total amount of investment (USD) for venture type is: 5379078691.0**"
   ]
  },
  {
   "cell_type": "code",
   "execution_count": 59,
   "metadata": {},
   "outputs": [],
   "source": [
    "#lets create a category wise tavle for GBR.\n",
    "D2_cat_table = D2.pivot_table( values = 'raised_amount_usd', index = ['main_sector'], aggfunc  = ['count', 'sum'])"
   ]
  },
  {
   "cell_type": "code",
   "execution_count": 60,
   "metadata": {},
   "outputs": [],
   "source": [
    "#After pivot_table columns will be multi index, flatten it.\n",
    "D2_cat_table.columns = D2_cat_table.columns.get_level_values(0)\n",
    "D2_cat_table = D2_cat_table.rename(columns = {'count':'total_number_of_investment', 'sum':'total_amount_invested'})"
   ]
  },
  {
   "cell_type": "markdown",
   "metadata": {},
   "source": [
    "<h4> Sector Analysis for GBR</h4>"
   ]
  },
  {
   "cell_type": "code",
   "execution_count": 61,
   "metadata": {
    "scrolled": true
   },
   "outputs": [
    {
     "data": {
      "text/html": [
       "<div>\n",
       "<style scoped>\n",
       "    .dataframe tbody tr th:only-of-type {\n",
       "        vertical-align: middle;\n",
       "    }\n",
       "\n",
       "    .dataframe tbody tr th {\n",
       "        vertical-align: top;\n",
       "    }\n",
       "\n",
       "    .dataframe thead th {\n",
       "        text-align: right;\n",
       "    }\n",
       "</style>\n",
       "<table border=\"1\" class=\"dataframe\">\n",
       "  <thead>\n",
       "    <tr style=\"text-align: right;\">\n",
       "      <th></th>\n",
       "      <th>total_number_of_investment</th>\n",
       "      <th>total_amount_invested</th>\n",
       "    </tr>\n",
       "    <tr>\n",
       "      <th>main_sector</th>\n",
       "      <th></th>\n",
       "      <th></th>\n",
       "    </tr>\n",
       "  </thead>\n",
       "  <tbody>\n",
       "    <tr>\n",
       "      <th>Others</th>\n",
       "      <td>147</td>\n",
       "      <td>1283624289.00</td>\n",
       "    </tr>\n",
       "    <tr>\n",
       "      <th>Social, Finance, Analytics, Advertising</th>\n",
       "      <td>133</td>\n",
       "      <td>1089404014.00</td>\n",
       "    </tr>\n",
       "    <tr>\n",
       "      <th>Cleantech / Semiconductors</th>\n",
       "      <td>130</td>\n",
       "      <td>1163990056.00</td>\n",
       "    </tr>\n",
       "    <tr>\n",
       "      <th>News, Search and Messaging</th>\n",
       "      <td>73</td>\n",
       "      <td>615746235.00</td>\n",
       "    </tr>\n",
       "    <tr>\n",
       "      <th>Entertainment</th>\n",
       "      <td>56</td>\n",
       "      <td>482784687.00</td>\n",
       "    </tr>\n",
       "    <tr>\n",
       "      <th>Manufacturing</th>\n",
       "      <td>42</td>\n",
       "      <td>361940335.00</td>\n",
       "    </tr>\n",
       "    <tr>\n",
       "      <th>Health</th>\n",
       "      <td>24</td>\n",
       "      <td>214537510.00</td>\n",
       "    </tr>\n",
       "    <tr>\n",
       "      <th>Automotive &amp; Sports</th>\n",
       "      <td>16</td>\n",
       "      <td>167051565.00</td>\n",
       "    </tr>\n",
       "  </tbody>\n",
       "</table>\n",
       "</div>"
      ],
      "text/plain": [
       "                                         total_number_of_investment  \\\n",
       "main_sector                                                           \n",
       "Others                                                          147   \n",
       "Social, Finance, Analytics, Advertising                         133   \n",
       "Cleantech / Semiconductors                                      130   \n",
       "News, Search and Messaging                                       73   \n",
       "Entertainment                                                    56   \n",
       "Manufacturing                                                    42   \n",
       "Health                                                           24   \n",
       "Automotive & Sports                                              16   \n",
       "\n",
       "                                         total_amount_invested  \n",
       "main_sector                                                     \n",
       "Others                                           1283624289.00  \n",
       "Social, Finance, Analytics, Advertising          1089404014.00  \n",
       "Cleantech / Semiconductors                       1163990056.00  \n",
       "News, Search and Messaging                        615746235.00  \n",
       "Entertainment                                     482784687.00  \n",
       "Manufacturing                                     361940335.00  \n",
       "Health                                            214537510.00  \n",
       "Automotive & Sports                               167051565.00  "
      ]
     },
     "execution_count": 61,
     "metadata": {},
     "output_type": "execute_result"
    }
   ],
   "source": [
    "D2_cat_table = D2_cat_table.sort_values(by = ['total_number_of_investment'], ascending = False)\n",
    "D2_cat_table"
   ]
  },
  {
   "cell_type": "code",
   "execution_count": 62,
   "metadata": {},
   "outputs": [],
   "source": [
    "#Merge the total_number_of_investment and total_amount_invested on to D2 table\n",
    "D2 = D2.merge(D2_cat_table, on = 'main_sector')"
   ]
  },
  {
   "cell_type": "code",
   "execution_count": 63,
   "metadata": {
    "scrolled": true
   },
   "outputs": [
    {
     "name": "stdout",
     "output_type": "stream",
     "text": [
      "<class 'pandas.core.frame.DataFrame'>\n",
      "Int64Index: 621 entries, 0 to 620\n",
      "Data columns (total 8 columns):\n",
      "company_permalink             621 non-null object\n",
      "raised_amount_usd             621 non-null float64\n",
      "name                          621 non-null object\n",
      "country_code                  621 non-null object\n",
      "primary_sector                621 non-null object\n",
      "main_sector                   621 non-null object\n",
      "total_number_of_investment    621 non-null int64\n",
      "total_amount_invested         621 non-null float64\n",
      "dtypes: float64(2), int64(1), object(5)\n",
      "memory usage: 43.7+ KB\n"
     ]
    }
   ],
   "source": [
    "D2.info()"
   ]
  },
  {
   "cell_type": "code",
   "execution_count": 64,
   "metadata": {},
   "outputs": [
    {
     "data": {
      "text/html": [
       "<div>\n",
       "<style scoped>\n",
       "    .dataframe tbody tr th:only-of-type {\n",
       "        vertical-align: middle;\n",
       "    }\n",
       "\n",
       "    .dataframe tbody tr th {\n",
       "        vertical-align: top;\n",
       "    }\n",
       "\n",
       "    .dataframe thead th {\n",
       "        text-align: right;\n",
       "    }\n",
       "</style>\n",
       "<table border=\"1\" class=\"dataframe\">\n",
       "  <thead>\n",
       "    <tr style=\"text-align: right;\">\n",
       "      <th></th>\n",
       "      <th>company_permalink</th>\n",
       "      <th>raised_amount_usd</th>\n",
       "      <th>name</th>\n",
       "      <th>country_code</th>\n",
       "      <th>primary_sector</th>\n",
       "      <th>main_sector</th>\n",
       "      <th>total_number_of_investment</th>\n",
       "      <th>total_amount_invested</th>\n",
       "    </tr>\n",
       "  </thead>\n",
       "  <tbody>\n",
       "    <tr>\n",
       "      <th>0</th>\n",
       "      <td>/organization/90min</td>\n",
       "      <td>15000000.00</td>\n",
       "      <td>90min</td>\n",
       "      <td>GBR</td>\n",
       "      <td>media</td>\n",
       "      <td>Entertainment</td>\n",
       "      <td>56</td>\n",
       "      <td>482784687.00</td>\n",
       "    </tr>\n",
       "    <tr>\n",
       "      <th>1</th>\n",
       "      <td>/organization/90min</td>\n",
       "      <td>5800000.00</td>\n",
       "      <td>90min</td>\n",
       "      <td>GBR</td>\n",
       "      <td>media</td>\n",
       "      <td>Entertainment</td>\n",
       "      <td>56</td>\n",
       "      <td>482784687.00</td>\n",
       "    </tr>\n",
       "    <tr>\n",
       "      <th>2</th>\n",
       "      <td>/organization/eutechnyx</td>\n",
       "      <td>8800000.00</td>\n",
       "      <td>Eutechnyx</td>\n",
       "      <td>GBR</td>\n",
       "      <td>games</td>\n",
       "      <td>Entertainment</td>\n",
       "      <td>56</td>\n",
       "      <td>482784687.00</td>\n",
       "    </tr>\n",
       "    <tr>\n",
       "      <th>3</th>\n",
       "      <td>/organization/mind-candy</td>\n",
       "      <td>10000000.00</td>\n",
       "      <td>Mind Candy</td>\n",
       "      <td>GBR</td>\n",
       "      <td>games</td>\n",
       "      <td>Entertainment</td>\n",
       "      <td>56</td>\n",
       "      <td>482784687.00</td>\n",
       "    </tr>\n",
       "    <tr>\n",
       "      <th>4</th>\n",
       "      <td>/organization/mind-candy</td>\n",
       "      <td>10860000.00</td>\n",
       "      <td>Mind Candy</td>\n",
       "      <td>GBR</td>\n",
       "      <td>games</td>\n",
       "      <td>Entertainment</td>\n",
       "      <td>56</td>\n",
       "      <td>482784687.00</td>\n",
       "    </tr>\n",
       "  </tbody>\n",
       "</table>\n",
       "</div>"
      ],
      "text/plain": [
       "          company_permalink  raised_amount_usd        name country_code  \\\n",
       "0       /organization/90min        15000000.00       90min          GBR   \n",
       "1       /organization/90min         5800000.00       90min          GBR   \n",
       "2   /organization/eutechnyx         8800000.00   Eutechnyx          GBR   \n",
       "3  /organization/mind-candy        10000000.00  Mind Candy          GBR   \n",
       "4  /organization/mind-candy        10860000.00  Mind Candy          GBR   \n",
       "\n",
       "  primary_sector    main_sector  total_number_of_investment  \\\n",
       "0          media  Entertainment                          56   \n",
       "1          media  Entertainment                          56   \n",
       "2          games  Entertainment                          56   \n",
       "3          games  Entertainment                          56   \n",
       "4          games  Entertainment                          56   \n",
       "\n",
       "   total_amount_invested  \n",
       "0           482784687.00  \n",
       "1           482784687.00  \n",
       "2           482784687.00  \n",
       "3           482784687.00  \n",
       "4           482784687.00  "
      ]
     },
     "execution_count": 64,
     "metadata": {},
     "output_type": "execute_result"
    }
   ],
   "source": [
    "D2.head()"
   ]
  },
  {
   "cell_type": "markdown",
   "metadata": {},
   "source": [
    "<h3> Creating D3 for IND </h3>"
   ]
  },
  {
   "cell_type": "code",
   "execution_count": 65,
   "metadata": {},
   "outputs": [],
   "source": [
    "# Dataframe for second english speaking company -IND\n",
    "# Extract the rows for IND where 5000000>=raised_amount_usd <= 15000000\n",
    "D3 = top9[(top9['country_code'] == 'IND') & \n",
    "          (top9['raised_amount_usd'] >= 5000000) & \n",
    "          (top9['raised_amount_usd'] <= 15000000)]"
   ]
  },
  {
   "cell_type": "code",
   "execution_count": 66,
   "metadata": {},
   "outputs": [
    {
     "name": "stdout",
     "output_type": "stream",
     "text": [
      "<class 'pandas.core.frame.DataFrame'>\n",
      "Int64Index: 328 entries, 0 to 43774\n",
      "Data columns (total 6 columns):\n",
      "company_permalink    328 non-null object\n",
      "raised_amount_usd    328 non-null float64\n",
      "name                 328 non-null object\n",
      "country_code         328 non-null object\n",
      "primary_sector       328 non-null object\n",
      "main_sector          328 non-null object\n",
      "dtypes: float64(1), object(5)\n",
      "memory usage: 17.9+ KB\n"
     ]
    }
   ],
   "source": [
    "D3.info()"
   ]
  },
  {
   "cell_type": "code",
   "execution_count": 67,
   "metadata": {},
   "outputs": [
    {
     "data": {
      "text/html": [
       "<div>\n",
       "<style scoped>\n",
       "    .dataframe tbody tr th:only-of-type {\n",
       "        vertical-align: middle;\n",
       "    }\n",
       "\n",
       "    .dataframe tbody tr th {\n",
       "        vertical-align: top;\n",
       "    }\n",
       "\n",
       "    .dataframe thead th {\n",
       "        text-align: right;\n",
       "    }\n",
       "</style>\n",
       "<table border=\"1\" class=\"dataframe\">\n",
       "  <thead>\n",
       "    <tr style=\"text-align: right;\">\n",
       "      <th></th>\n",
       "      <th>company_permalink</th>\n",
       "      <th>raised_amount_usd</th>\n",
       "      <th>name</th>\n",
       "      <th>country_code</th>\n",
       "      <th>primary_sector</th>\n",
       "      <th>main_sector</th>\n",
       "    </tr>\n",
       "  </thead>\n",
       "  <tbody>\n",
       "    <tr>\n",
       "      <th>0</th>\n",
       "      <td>/organization/-fame</td>\n",
       "      <td>10000000.00</td>\n",
       "      <td>#fame</td>\n",
       "      <td>IND</td>\n",
       "      <td>media</td>\n",
       "      <td>Entertainment</td>\n",
       "    </tr>\n",
       "    <tr>\n",
       "      <th>116</th>\n",
       "      <td>/organization/babajob</td>\n",
       "      <td>10000000.00</td>\n",
       "      <td>Babajob</td>\n",
       "      <td>IND</td>\n",
       "      <td>curated web</td>\n",
       "      <td>News, Search and Messaging</td>\n",
       "    </tr>\n",
       "    <tr>\n",
       "      <th>138</th>\n",
       "      <td>/organization/bharat-matrimony</td>\n",
       "      <td>11750000.00</td>\n",
       "      <td>Bharat Matrimony</td>\n",
       "      <td>IND</td>\n",
       "      <td>curated web</td>\n",
       "      <td>News, Search and Messaging</td>\n",
       "    </tr>\n",
       "    <tr>\n",
       "      <th>167</th>\n",
       "      <td>/organization/bluestone-com</td>\n",
       "      <td>5000000.00</td>\n",
       "      <td>Bluestone.com</td>\n",
       "      <td>IND</td>\n",
       "      <td>curated web</td>\n",
       "      <td>News, Search and Messaging</td>\n",
       "    </tr>\n",
       "    <tr>\n",
       "      <th>169</th>\n",
       "      <td>/organization/bluestone-com</td>\n",
       "      <td>10000000.00</td>\n",
       "      <td>Bluestone.com</td>\n",
       "      <td>IND</td>\n",
       "      <td>curated web</td>\n",
       "      <td>News, Search and Messaging</td>\n",
       "    </tr>\n",
       "  </tbody>\n",
       "</table>\n",
       "</div>"
      ],
      "text/plain": [
       "                  company_permalink  raised_amount_usd              name  \\\n",
       "0               /organization/-fame        10000000.00             #fame   \n",
       "116           /organization/babajob        10000000.00           Babajob   \n",
       "138  /organization/bharat-matrimony        11750000.00  Bharat Matrimony   \n",
       "167     /organization/bluestone-com         5000000.00     Bluestone.com   \n",
       "169     /organization/bluestone-com        10000000.00     Bluestone.com   \n",
       "\n",
       "    country_code primary_sector                 main_sector  \n",
       "0            IND          media               Entertainment  \n",
       "116          IND    curated web  News, Search and Messaging  \n",
       "138          IND    curated web  News, Search and Messaging  \n",
       "167          IND    curated web  News, Search and Messaging  \n",
       "169          IND    curated web  News, Search and Messaging  "
      ]
     },
     "execution_count": 67,
     "metadata": {},
     "output_type": "execute_result"
    }
   ],
   "source": [
    "D3.head()"
   ]
  },
  {
   "cell_type": "markdown",
   "metadata": {},
   "source": [
    "**Total count of venture type funding between 5M to 15 M USD in IND: 328**"
   ]
  },
  {
   "cell_type": "code",
   "execution_count": 68,
   "metadata": {},
   "outputs": [
    {
     "data": {
      "text/plain": [
       "2949543602.0"
      ]
     },
     "execution_count": 68,
     "metadata": {},
     "output_type": "execute_result"
    }
   ],
   "source": [
    "D3.raised_amount_usd.sum()"
   ]
  },
  {
   "cell_type": "markdown",
   "metadata": {},
   "source": [
    "**Total Amount Raised in USD for venture type funding between 5M to 15M USD in IND: 2949543602.0**"
   ]
  },
  {
   "cell_type": "code",
   "execution_count": 69,
   "metadata": {},
   "outputs": [],
   "source": [
    "#lets create a category wise tavle for IND.\n",
    "D3_cat_table = D3.pivot_table( values = 'raised_amount_usd', index = ['main_sector'], aggfunc  = ['count', 'sum'])"
   ]
  },
  {
   "cell_type": "code",
   "execution_count": 70,
   "metadata": {},
   "outputs": [],
   "source": [
    "#After pivot_table columns will be multi index, flatten it.\n",
    "D3_cat_table.columns = D3_cat_table.columns.get_level_values(0)\n",
    "D3_cat_table = D3_cat_table.rename(columns = {'count':'total_number_of_investment', 'sum':'total_amount_invested'})"
   ]
  },
  {
   "cell_type": "markdown",
   "metadata": {},
   "source": [
    "<h4> Sector Analysis for IND </h4>"
   ]
  },
  {
   "cell_type": "code",
   "execution_count": 71,
   "metadata": {
    "scrolled": true
   },
   "outputs": [
    {
     "data": {
      "text/html": [
       "<div>\n",
       "<style scoped>\n",
       "    .dataframe tbody tr th:only-of-type {\n",
       "        vertical-align: middle;\n",
       "    }\n",
       "\n",
       "    .dataframe tbody tr th {\n",
       "        vertical-align: top;\n",
       "    }\n",
       "\n",
       "    .dataframe thead th {\n",
       "        text-align: right;\n",
       "    }\n",
       "</style>\n",
       "<table border=\"1\" class=\"dataframe\">\n",
       "  <thead>\n",
       "    <tr style=\"text-align: right;\">\n",
       "      <th></th>\n",
       "      <th>total_number_of_investment</th>\n",
       "      <th>total_amount_invested</th>\n",
       "    </tr>\n",
       "    <tr>\n",
       "      <th>main_sector</th>\n",
       "      <th></th>\n",
       "      <th></th>\n",
       "    </tr>\n",
       "  </thead>\n",
       "  <tbody>\n",
       "    <tr>\n",
       "      <th>Others</th>\n",
       "      <td>110</td>\n",
       "      <td>1013409507.00</td>\n",
       "    </tr>\n",
       "    <tr>\n",
       "      <th>Social, Finance, Analytics, Advertising</th>\n",
       "      <td>60</td>\n",
       "      <td>550549550.00</td>\n",
       "    </tr>\n",
       "    <tr>\n",
       "      <th>News, Search and Messaging</th>\n",
       "      <td>52</td>\n",
       "      <td>433834545.00</td>\n",
       "    </tr>\n",
       "    <tr>\n",
       "      <th>Entertainment</th>\n",
       "      <td>33</td>\n",
       "      <td>280830000.00</td>\n",
       "    </tr>\n",
       "    <tr>\n",
       "      <th>Manufacturing</th>\n",
       "      <td>21</td>\n",
       "      <td>200900000.00</td>\n",
       "    </tr>\n",
       "    <tr>\n",
       "      <th>Cleantech / Semiconductors</th>\n",
       "      <td>20</td>\n",
       "      <td>165380000.00</td>\n",
       "    </tr>\n",
       "    <tr>\n",
       "      <th>Health</th>\n",
       "      <td>19</td>\n",
       "      <td>167740000.00</td>\n",
       "    </tr>\n",
       "    <tr>\n",
       "      <th>Automotive &amp; Sports</th>\n",
       "      <td>13</td>\n",
       "      <td>136900000.00</td>\n",
       "    </tr>\n",
       "  </tbody>\n",
       "</table>\n",
       "</div>"
      ],
      "text/plain": [
       "                                         total_number_of_investment  \\\n",
       "main_sector                                                           \n",
       "Others                                                          110   \n",
       "Social, Finance, Analytics, Advertising                          60   \n",
       "News, Search and Messaging                                       52   \n",
       "Entertainment                                                    33   \n",
       "Manufacturing                                                    21   \n",
       "Cleantech / Semiconductors                                       20   \n",
       "Health                                                           19   \n",
       "Automotive & Sports                                              13   \n",
       "\n",
       "                                         total_amount_invested  \n",
       "main_sector                                                     \n",
       "Others                                           1013409507.00  \n",
       "Social, Finance, Analytics, Advertising           550549550.00  \n",
       "News, Search and Messaging                        433834545.00  \n",
       "Entertainment                                     280830000.00  \n",
       "Manufacturing                                     200900000.00  \n",
       "Cleantech / Semiconductors                        165380000.00  \n",
       "Health                                            167740000.00  \n",
       "Automotive & Sports                               136900000.00  "
      ]
     },
     "execution_count": 71,
     "metadata": {},
     "output_type": "execute_result"
    }
   ],
   "source": [
    "D3_cat_table = D3_cat_table.sort_values(by = ['total_number_of_investment'], ascending = False)\n",
    "D3_cat_table"
   ]
  },
  {
   "cell_type": "code",
   "execution_count": 72,
   "metadata": {},
   "outputs": [],
   "source": [
    "#Merge the total_number_of_investment and total_amount_invested on to D2 table\n",
    "D3 = D3.merge(D3_cat_table, on = 'main_sector')"
   ]
  },
  {
   "cell_type": "code",
   "execution_count": 73,
   "metadata": {
    "scrolled": true
   },
   "outputs": [
    {
     "name": "stdout",
     "output_type": "stream",
     "text": [
      "<class 'pandas.core.frame.DataFrame'>\n",
      "Int64Index: 328 entries, 0 to 327\n",
      "Data columns (total 8 columns):\n",
      "company_permalink             328 non-null object\n",
      "raised_amount_usd             328 non-null float64\n",
      "name                          328 non-null object\n",
      "country_code                  328 non-null object\n",
      "primary_sector                328 non-null object\n",
      "main_sector                   328 non-null object\n",
      "total_number_of_investment    328 non-null int64\n",
      "total_amount_invested         328 non-null float64\n",
      "dtypes: float64(2), int64(1), object(5)\n",
      "memory usage: 23.1+ KB\n"
     ]
    }
   ],
   "source": [
    "D3.info()"
   ]
  },
  {
   "cell_type": "code",
   "execution_count": 74,
   "metadata": {},
   "outputs": [
    {
     "data": {
      "text/html": [
       "<div>\n",
       "<style scoped>\n",
       "    .dataframe tbody tr th:only-of-type {\n",
       "        vertical-align: middle;\n",
       "    }\n",
       "\n",
       "    .dataframe tbody tr th {\n",
       "        vertical-align: top;\n",
       "    }\n",
       "\n",
       "    .dataframe thead th {\n",
       "        text-align: right;\n",
       "    }\n",
       "</style>\n",
       "<table border=\"1\" class=\"dataframe\">\n",
       "  <thead>\n",
       "    <tr style=\"text-align: right;\">\n",
       "      <th></th>\n",
       "      <th>company_permalink</th>\n",
       "      <th>raised_amount_usd</th>\n",
       "      <th>name</th>\n",
       "      <th>country_code</th>\n",
       "      <th>primary_sector</th>\n",
       "      <th>main_sector</th>\n",
       "      <th>total_number_of_investment</th>\n",
       "      <th>total_amount_invested</th>\n",
       "    </tr>\n",
       "  </thead>\n",
       "  <tbody>\n",
       "    <tr>\n",
       "      <th>0</th>\n",
       "      <td>/organization/-fame</td>\n",
       "      <td>10000000.00</td>\n",
       "      <td>#fame</td>\n",
       "      <td>IND</td>\n",
       "      <td>media</td>\n",
       "      <td>Entertainment</td>\n",
       "      <td>33</td>\n",
       "      <td>280830000.00</td>\n",
       "    </tr>\n",
       "    <tr>\n",
       "      <th>1</th>\n",
       "      <td>/organization/dhruva</td>\n",
       "      <td>5000000.00</td>\n",
       "      <td>Dhruva</td>\n",
       "      <td>IND</td>\n",
       "      <td>games</td>\n",
       "      <td>Entertainment</td>\n",
       "      <td>33</td>\n",
       "      <td>280830000.00</td>\n",
       "    </tr>\n",
       "    <tr>\n",
       "      <th>2</th>\n",
       "      <td>/organization/games2win</td>\n",
       "      <td>5000000.00</td>\n",
       "      <td>Games2Win</td>\n",
       "      <td>IND</td>\n",
       "      <td>games</td>\n",
       "      <td>Entertainment</td>\n",
       "      <td>33</td>\n",
       "      <td>280830000.00</td>\n",
       "    </tr>\n",
       "    <tr>\n",
       "      <th>3</th>\n",
       "      <td>/organization/games2win</td>\n",
       "      <td>6000000.00</td>\n",
       "      <td>Games2Win</td>\n",
       "      <td>IND</td>\n",
       "      <td>games</td>\n",
       "      <td>Entertainment</td>\n",
       "      <td>33</td>\n",
       "      <td>280830000.00</td>\n",
       "    </tr>\n",
       "    <tr>\n",
       "      <th>4</th>\n",
       "      <td>/organization/pokkt</td>\n",
       "      <td>5000000.00</td>\n",
       "      <td>POKKT</td>\n",
       "      <td>IND</td>\n",
       "      <td>games</td>\n",
       "      <td>Entertainment</td>\n",
       "      <td>33</td>\n",
       "      <td>280830000.00</td>\n",
       "    </tr>\n",
       "  </tbody>\n",
       "</table>\n",
       "</div>"
      ],
      "text/plain": [
       "         company_permalink  raised_amount_usd       name country_code  \\\n",
       "0      /organization/-fame        10000000.00      #fame          IND   \n",
       "1     /organization/dhruva         5000000.00     Dhruva          IND   \n",
       "2  /organization/games2win         5000000.00  Games2Win          IND   \n",
       "3  /organization/games2win         6000000.00  Games2Win          IND   \n",
       "4      /organization/pokkt         5000000.00      POKKT          IND   \n",
       "\n",
       "  primary_sector    main_sector  total_number_of_investment  \\\n",
       "0          media  Entertainment                          33   \n",
       "1          games  Entertainment                          33   \n",
       "2          games  Entertainment                          33   \n",
       "3          games  Entertainment                          33   \n",
       "4          games  Entertainment                          33   \n",
       "\n",
       "   total_amount_invested  \n",
       "0           280830000.00  \n",
       "1           280830000.00  \n",
       "2           280830000.00  \n",
       "3           280830000.00  \n",
       "4           280830000.00  "
      ]
     },
     "execution_count": 74,
     "metadata": {},
     "output_type": "execute_result"
    }
   ],
   "source": [
    "D3.head()"
   ]
  },
  {
   "cell_type": "markdown",
   "metadata": {},
   "source": [
    "<h3> Percentage of venture funding across USA, GBR and IND</h3>"
   ]
  },
  {
   "cell_type": "code",
   "execution_count": 75,
   "metadata": {},
   "outputs": [
    {
     "name": "stdout",
     "output_type": "stream",
     "text": [
      "Total venture funding in USA:  107757097294.0\n"
     ]
    }
   ],
   "source": [
    "print('Total venture funding in USA: ', D1.raised_amount_usd.sum())"
   ]
  },
  {
   "cell_type": "code",
   "execution_count": 76,
   "metadata": {},
   "outputs": [
    {
     "name": "stdout",
     "output_type": "stream",
     "text": [
      "Total venture funding in GBR:  5379078691.0\n"
     ]
    }
   ],
   "source": [
    "print('Total venture funding in GBR: ', D2.raised_amount_usd.sum())"
   ]
  },
  {
   "cell_type": "code",
   "execution_count": 77,
   "metadata": {},
   "outputs": [
    {
     "name": "stdout",
     "output_type": "stream",
     "text": [
      "Total venture funding in IND:  2949543602.0\n"
     ]
    }
   ],
   "source": [
    "print('Total venture funding in IND: ', D3.raised_amount_usd.sum())"
   ]
  },
  {
   "cell_type": "code",
   "execution_count": 78,
   "metadata": {},
   "outputs": [
    {
     "data": {
      "image/png": "[encoded data removed]",
      "text/plain": [
       "<Figure size 432x432 with 1 Axes>"
      ]
     },
     "metadata": {},
     "output_type": "display_data"
    }
   ],
   "source": [
    "plt.figure(figsize=(6, 6))\n",
    "plt.pie([107757097294.0, 5379078691.0, 2949543602.0], \n",
    "        labels=['USA', 'GBR', 'IND'],\n",
    "        autopct='%.2f%%')\n",
    "plt.title(\"Venture funding percentage across USA, GBR, IND\")\n",
    "plt.show() "
   ]
  },
  {
   "cell_type": "markdown",
   "metadata": {},
   "source": [
    "<h3> Companies which received most funding for Top 2 sectors in USA</h3>"
   ]
  },
  {
   "cell_type": "markdown",
   "metadata": {},
   "source": [
    "**Details of the company which received highest funding in sector \"Others\":**"
   ]
  },
  {
   "cell_type": "markdown",
   "metadata": {},
   "source": [
    "Based on total amount of funding received:"
   ]
  },
  {
   "cell_type": "code",
   "execution_count": 79,
   "metadata": {
    "scrolled": true
   },
   "outputs": [
    {
     "data": {
      "text/plain": [
       "company_permalink\n",
       "/organization/virtustream           64300000.00\n",
       "/organization/capella               54968051.00\n",
       "/organization/airtight-networks     54201907.00\n",
       "/organization/decarta               52100000.00\n",
       "/organization/black-duck-software   51000000.00\n",
       "Name: raised_amount_usd, dtype: float64"
      ]
     },
     "execution_count": 79,
     "metadata": {},
     "output_type": "execute_result"
    }
   ],
   "source": [
    "D1_cat1 = D1[D1['main_sector'] == D1_cat_table.index[0] ].groupby('company_permalink')['raised_amount_usd'].sum()\n",
    "D1_cat1 = D1_cat1.sort_values(ascending = False)\n",
    "D1_cat1.head()"
   ]
  },
  {
   "cell_type": "markdown",
   "metadata": {},
   "source": [
    "Based on total number of funding received:"
   ]
  },
  {
   "cell_type": "code",
   "execution_count": 80,
   "metadata": {
    "scrolled": true
   },
   "outputs": [
    {
     "data": {
      "text/plain": [
       "company_permalink\n",
       "/organization/capella                6\n",
       "/organization/virtustream            6\n",
       "/organization/black-duck-software    6\n",
       "/organization/deliveryagent          5\n",
       "/organization/bit9                   5\n",
       "Name: raised_amount_usd, dtype: int64"
      ]
     },
     "execution_count": 80,
     "metadata": {},
     "output_type": "execute_result"
    }
   ],
   "source": [
    "D1_cat_num1 = D1[D1['main_sector'] == D1_cat_table.index[0] ].groupby('company_permalink')['raised_amount_usd'].count()\n",
    "D1_cat_num1 = D1_cat_num1.sort_values(ascending = False)\n",
    "D1_cat_num1.head()"
   ]
  },
  {
   "cell_type": "markdown",
   "metadata": {},
   "source": [
    "Based on total funding amount as well as total count of funding /organization/virtustream is in top position:"
   ]
  },
  {
   "cell_type": "code",
   "execution_count": 81,
   "metadata": {
    "scrolled": true
   },
   "outputs": [
    {
     "name": "stdout",
     "output_type": "stream",
     "text": [
      "Details of the Company which received highest investment in sector \"Others\" in USA: \n",
      "Unique ID:  /organization/virtustream\n",
      "Company Name:  Virtustream\n",
      "Total investment:  64300000.0\n"
     ]
    }
   ],
   "source": [
    "print('Details of the Company which received highest investment in sector \"Others\" in USA: ')\n",
    "print('Unique ID: ', D1_cat1.index[0])\n",
    "print('Company Name: ', D1[D1.company_permalink == D1_cat1.index[0]].name.unique()[0])\n",
    "print('Total investment: ', D1_cat1.iloc[0])"
   ]
  },
  {
   "cell_type": "markdown",
   "metadata": {},
   "source": [
    "**Details of the Company which received highest investment in sector Social, Finance, Analytics, Advertising in USA:**"
   ]
  },
  {
   "cell_type": "markdown",
   "metadata": {},
   "source": [
    "Based on total amount of funding received:"
   ]
  },
  {
   "cell_type": "code",
   "execution_count": 82,
   "metadata": {
    "scrolled": false
   },
   "outputs": [
    {
     "data": {
      "text/plain": [
       "company_permalink\n",
       "/organization/shotspotter   67933006.00\n",
       "/organization/demandbase    63000000.00\n",
       "/organization/intacct       61800000.00\n",
       "/organization/netbase       60600000.00\n",
       "/organization/lotame        59700000.00\n",
       "Name: raised_amount_usd, dtype: float64"
      ]
     },
     "execution_count": 82,
     "metadata": {},
     "output_type": "execute_result"
    }
   ],
   "source": [
    "D1_cat2 = D1[D1['main_sector'] == D1_cat_table.index[1] ].groupby('company_permalink')['raised_amount_usd'].sum()\n",
    "D1_cat2 = D1_cat2.sort_values(ascending = False)\n",
    "D1_cat2.head()"
   ]
  },
  {
   "cell_type": "markdown",
   "metadata": {},
   "source": [
    "Based on total number of funding received:"
   ]
  },
  {
   "cell_type": "code",
   "execution_count": 83,
   "metadata": {
    "scrolled": true
   },
   "outputs": [
    {
     "data": {
      "text/plain": [
       "company_permalink\n",
       "/organization/shotspotter     7\n",
       "/organization/netbase         7\n",
       "/organization/choicestream    6\n",
       "/organization/instamed        6\n",
       "/organization/firstrain       6\n",
       "Name: raised_amount_usd, dtype: int64"
      ]
     },
     "execution_count": 83,
     "metadata": {},
     "output_type": "execute_result"
    }
   ],
   "source": [
    "D1_cat_num2 = D1[D1['main_sector'] == D1_cat_table.index[1] ].groupby('company_permalink')['raised_amount_usd'].count()\n",
    "D1_cat_num2 = D1_cat_num2.sort_values(ascending = False)\n",
    "D1_cat_num2.head()"
   ]
  },
  {
   "cell_type": "markdown",
   "metadata": {},
   "source": [
    "Based on total number as well as total funding raised, /organization/shotspotter is in top position. Let us print the details of /organization/shotspotter"
   ]
  },
  {
   "cell_type": "code",
   "execution_count": 84,
   "metadata": {
    "scrolled": true
   },
   "outputs": [
    {
     "name": "stdout",
     "output_type": "stream",
     "text": [
      "Details of the Company which received highest investment in sector Social, Finance, Analytics, Advertising in USA: \n",
      "Unique ID:  /organization/shotspotter\n",
      "Company Name:  SST Inc. (Formerly ShotSpotter)\n",
      "Total investment:  67933006.0\n"
     ]
    }
   ],
   "source": [
    "print('Details of the Company which received highest investment in sector {} in USA: '.format(D1_cat_table.index[1]))\n",
    "print('Unique ID: ', D1_cat2.index[0])\n",
    "print('Company Name: ', D1[D1.company_permalink == D1_cat2.index[0]].name.unique()[0])\n",
    "print('Total investment: ', D1_cat2.iloc[0])"
   ]
  },
  {
   "cell_type": "markdown",
   "metadata": {},
   "source": [
    "<h3> Companies which received most funding for Top 2 sectors in GBR</h3>"
   ]
  },
  {
   "cell_type": "markdown",
   "metadata": {},
   "source": [
    "**Details of the company which received highest funding in sector \"Others\":**"
   ]
  },
  {
   "cell_type": "markdown",
   "metadata": {},
   "source": [
    "Based on the total amount of funding raised:"
   ]
  },
  {
   "cell_type": "code",
   "execution_count": 85,
   "metadata": {
    "scrolled": true
   },
   "outputs": [
    {
     "data": {
      "text/plain": [
       "company_permalink\n",
       "/organization/electric-cloud            37000000.00\n",
       "/organization/sensage                   36250000.00\n",
       "/organization/enigmatic                 32500000.00\n",
       "/organization/silverrail-technologies   29000000.00\n",
       "/organization/opencloud                 27972766.00\n",
       "Name: raised_amount_usd, dtype: float64"
      ]
     },
     "execution_count": 85,
     "metadata": {},
     "output_type": "execute_result"
    }
   ],
   "source": [
    "D2_cat1 = D2[D2['main_sector'] == D2_cat_table.index[0] ].groupby('company_permalink')['raised_amount_usd'].sum()\n",
    "D2_cat1 = D2_cat1.sort_values(ascending = False)\n",
    "D2_cat1.head()"
   ]
  },
  {
   "cell_type": "markdown",
   "metadata": {},
   "source": [
    "Based on total count of funding received:"
   ]
  },
  {
   "cell_type": "code",
   "execution_count": 86,
   "metadata": {},
   "outputs": [
    {
     "data": {
      "text/plain": [
       "company_permalink\n",
       "/organization/sensage                    4\n",
       "/organization/electric-cloud             4\n",
       "/organization/opencloud                  3\n",
       "/organization/enigmatic                  3\n",
       "/organization/silverrail-technologies    3\n",
       "Name: raised_amount_usd, dtype: int64"
      ]
     },
     "execution_count": 86,
     "metadata": {},
     "output_type": "execute_result"
    }
   ],
   "source": [
    "D2_cat_num1 = D2[D2['main_sector'] == D2_cat_table.index[0] ].groupby('company_permalink')['raised_amount_usd'].count()\n",
    "D2_cat_num1 = D2_cat_num1.sort_values(ascending = False)\n",
    "D2_cat_num1.head()"
   ]
  },
  {
   "cell_type": "markdown",
   "metadata": {},
   "source": [
    "Based on total number as well as total funding raised, /organization/electric-cloud is in top position. Let us print the details of /organization/electric-cloud"
   ]
  },
  {
   "cell_type": "code",
   "execution_count": 87,
   "metadata": {
    "scrolled": true
   },
   "outputs": [
    {
     "name": "stdout",
     "output_type": "stream",
     "text": [
      "Details of the Company which received highest investment in sector \"Others\" in GBR: \n",
      "Unique ID:  /organization/electric-cloud\n",
      "Company Name:  Electric Cloud\n",
      "Total investment:  37000000.0\n"
     ]
    }
   ],
   "source": [
    "print('Details of the Company which received highest investment in sector \"Others\" in GBR: ')\n",
    "print('Unique ID: ', D2_cat1.index[0])\n",
    "print('Company Name: ', D2[D2.company_permalink == D2_cat1.index[0]].name.unique()[0])\n",
    "print('Total investment: ', D2_cat1.iloc[0])"
   ]
  },
  {
   "cell_type": "markdown",
   "metadata": {},
   "source": [
    "**Details of the company which received highest funding in sector \"sector Social, Finance, Analytics, Advertising\":**"
   ]
  },
  {
   "cell_type": "markdown",
   "metadata": {},
   "source": [
    "Based on total amount of fund raised:"
   ]
  },
  {
   "cell_type": "code",
   "execution_count": 88,
   "metadata": {
    "scrolled": true
   },
   "outputs": [
    {
     "data": {
      "text/plain": [
       "company_permalink\n",
       "/organization/celltick-technologies   37500000.00\n",
       "/organization/mythings                34000000.00\n",
       "/organization/zopa                    32900000.00\n",
       "/organization/imagini                 28550000.00\n",
       "/organization/marketinvoice           25553007.00\n",
       "Name: raised_amount_usd, dtype: float64"
      ]
     },
     "execution_count": 88,
     "metadata": {},
     "output_type": "execute_result"
    }
   ],
   "source": [
    "D2_cat2 = D2[D2['main_sector'] == D2_cat_table.index[1] ].groupby('company_permalink')['raised_amount_usd'].sum()\n",
    "D2_cat2 = D2_cat2.sort_values(ascending = False)\n",
    "D2_cat2.head()"
   ]
  },
  {
   "cell_type": "markdown",
   "metadata": {},
   "source": [
    "Based on total number of fund received:"
   ]
  },
  {
   "cell_type": "code",
   "execution_count": 89,
   "metadata": {
    "scrolled": true
   },
   "outputs": [
    {
     "data": {
      "text/plain": [
       "company_permalink\n",
       "/organization/celltick-technologies    4\n",
       "/organization/mythings                 4\n",
       "/organization/zopa                     3\n",
       "/organization/victor                   3\n",
       "/organization/amplience                3\n",
       "Name: raised_amount_usd, dtype: int64"
      ]
     },
     "execution_count": 89,
     "metadata": {},
     "output_type": "execute_result"
    }
   ],
   "source": [
    "D2_cat_num2 = D2[D2['main_sector'] == D2_cat_table.index[1] ].groupby('company_permalink')['raised_amount_usd'].count()\n",
    "D2_cat_num2 = D2_cat_num2.sort_values(ascending = False)\n",
    "D2_cat_num2.head()"
   ]
  },
  {
   "cell_type": "markdown",
   "metadata": {},
   "source": [
    "Based on total number as well as total funding raised, /organization/celltick-technologies is in top position. Will Print the details of /organization/celltick-technologies:"
   ]
  },
  {
   "cell_type": "code",
   "execution_count": 90,
   "metadata": {
    "scrolled": true
   },
   "outputs": [
    {
     "name": "stdout",
     "output_type": "stream",
     "text": [
      "Details of the Company which received highest investment in sector Social, Finance, Analytics, Advertising in GBR: \n",
      "Unique ID:  /organization/celltick-technologies\n",
      "Company Name:  Celltick Technologies\n",
      "Total investment:  37500000.0\n"
     ]
    }
   ],
   "source": [
    "print('Details of the Company which received highest investment in sector {} in GBR: '.format(D2_cat_table.index[1]))\n",
    "print('Unique ID: ', D2_cat2.index[0])\n",
    "print('Company Name: ', D2[D2.company_permalink == D2_cat2.index[0]].name.unique()[0])\n",
    "print('Total investment: ', D2_cat2.iloc[0])"
   ]
  },
  {
   "cell_type": "markdown",
   "metadata": {},
   "source": [
    "<h3> Companies which received most funding for Top 2 sectors in IND</h3>"
   ]
  },
  {
   "cell_type": "markdown",
   "metadata": {},
   "source": [
    "**Details of the company which received highest funding in sector \"Others\":**"
   ]
  },
  {
   "cell_type": "markdown",
   "metadata": {},
   "source": [
    "Based on total amount of funding received:"
   ]
  },
  {
   "cell_type": "code",
   "execution_count": 91,
   "metadata": {},
   "outputs": [
    {
     "data": {
      "text/plain": [
       "company_permalink\n",
       "/organization/firstcry-com       39000000.00\n",
       "/organization/myntra             38000000.00\n",
       "/organization/commonfloor        32900000.00\n",
       "/organization/pepperfry-com      28000000.00\n",
       "/organization/itzcash-card-ltd   25000000.00\n",
       "Name: raised_amount_usd, dtype: float64"
      ]
     },
     "execution_count": 91,
     "metadata": {},
     "output_type": "execute_result"
    }
   ],
   "source": [
    "D3_cat1 = D3[D3['main_sector'] == D3_cat_table.index[0] ].groupby('company_permalink')['raised_amount_usd'].sum()\n",
    "D3_cat1 = D3_cat1.sort_values(ascending = False)\n",
    "D3_cat1.head()"
   ]
  },
  {
   "cell_type": "markdown",
   "metadata": {},
   "source": [
    "Based on total number of funding received:"
   ]
  },
  {
   "cell_type": "code",
   "execution_count": 92,
   "metadata": {
    "scrolled": true
   },
   "outputs": [
    {
     "data": {
      "text/plain": [
       "company_permalink\n",
       "/organization/myntra           4\n",
       "/organization/firstcry-com     3\n",
       "/organization/pepperfry-com    3\n",
       "/organization/commonfloor      3\n",
       "/organization/limeroad         2\n",
       "Name: raised_amount_usd, dtype: int64"
      ]
     },
     "execution_count": 92,
     "metadata": {},
     "output_type": "execute_result"
    }
   ],
   "source": [
    "D3_cat_num1 = D3[D3['main_sector'] == D3_cat_table.index[0] ].groupby('company_permalink')['raised_amount_usd'].count()\n",
    "D3_cat_num1 = D3_cat_num1.sort_values(ascending = False)\n",
    "D3_cat_num1.head()"
   ]
  },
  {
   "cell_type": "markdown",
   "metadata": {},
   "source": [
    "Though mytra received more number of funding, fitsrcry received highest total funding. So will consider firstcry as top company:\n",
    "\n",
    "    Assumption: Top company based on highest total funding"
   ]
  },
  {
   "cell_type": "code",
   "execution_count": 93,
   "metadata": {
    "scrolled": true
   },
   "outputs": [
    {
     "name": "stdout",
     "output_type": "stream",
     "text": [
      "Details of the Company which received highest investment in sector \"Others\" in IND: \n",
      "Unique ID:  /organization/firstcry-com\n",
      "Company Name:  FirstCry.com\n",
      "Total investment:  39000000.0\n"
     ]
    }
   ],
   "source": [
    "print('Details of the Company which received highest investment in sector \"Others\" in IND: ')\n",
    "print('Unique ID: ', D3_cat1.index[0])\n",
    "print('Company Name: ', D3[D3.company_permalink == D3_cat1.index[0]].name.unique()[0])\n",
    "print('Total investment: ', D3_cat1.iloc[0])"
   ]
  },
  {
   "cell_type": "markdown",
   "metadata": {},
   "source": [
    "**Details of the company which received highest funding in sector \"Social, Finance, Analytics, Advertising\"**"
   ]
  },
  {
   "cell_type": "markdown",
   "metadata": {},
   "source": [
    "Based on total amount of funding received:"
   ]
  },
  {
   "cell_type": "code",
   "execution_count": 94,
   "metadata": {
    "scrolled": true
   },
   "outputs": [
    {
     "data": {
      "text/plain": [
       "company_permalink\n",
       "/organization/manthan-systems              50700000.00\n",
       "/organization/komli-media                  28000000.00\n",
       "/organization/shopclues-com                25000000.00\n",
       "/organization/intarvo                      21900000.00\n",
       "/organization/grameen-financial-services   21556050.00\n",
       "Name: raised_amount_usd, dtype: float64"
      ]
     },
     "execution_count": 94,
     "metadata": {},
     "output_type": "execute_result"
    }
   ],
   "source": [
    "D3_cat2 = D3[D3['main_sector'] == D3_cat_table.index[1] ].groupby('company_permalink')['raised_amount_usd'].sum()\n",
    "D3_cat2 = D3_cat2.sort_values(ascending = False)\n",
    "D3_cat2.head()"
   ]
  },
  {
   "cell_type": "markdown",
   "metadata": {},
   "source": [
    "Based on total number of funding received:"
   ]
  },
  {
   "cell_type": "code",
   "execution_count": 95,
   "metadata": {
    "scrolled": true
   },
   "outputs": [
    {
     "data": {
      "text/plain": [
       "company_permalink\n",
       "/organization/manthan-systems               4\n",
       "/organization/komli-media                   3\n",
       "/organization/microland                     2\n",
       "/organization/grameen-financial-services    2\n",
       "/organization/shopclues-com                 2\n",
       "Name: raised_amount_usd, dtype: int64"
      ]
     },
     "execution_count": 95,
     "metadata": {},
     "output_type": "execute_result"
    }
   ],
   "source": [
    "D3_cat_num2 = D3[D3['main_sector'] == D3_cat_table.index[1] ].groupby('company_permalink')['raised_amount_usd'].count()\n",
    "D3_cat_num2 = D3_cat_num2.sort_values(ascending = False)\n",
    "D3_cat_num2.head()"
   ]
  },
  {
   "cell_type": "markdown",
   "metadata": {},
   "source": [
    "Based on total amount as well as total number '/organization/manthan-systems' is the clear winner. Will print the details of /organization/manthan-systems."
   ]
  },
  {
   "cell_type": "code",
   "execution_count": 96,
   "metadata": {},
   "outputs": [
    {
     "name": "stdout",
     "output_type": "stream",
     "text": [
      "Details of the Company which received highest investment in sector Social, Finance, Analytics, Advertising in IND: \n",
      "Unique ID:  /organization/manthan-systems\n",
      "Company Name:  Manthan Systems\n",
      "Total investment:  50700000.0\n"
     ]
    }
   ],
   "source": [
    "print('Details of the Company which received highest investment in sector {} in IND: '.format(D3_cat_table.index[1]))\n",
    "print('Unique ID: ', D3_cat2.index[0])\n",
    "print('Company Name: ', D3[D3.company_permalink == D3_cat2.index[0]].name.unique()[0])\n",
    "print('Total investment: ', D3_cat2.iloc[0])"
   ]
  },
  {
   "cell_type": "markdown",
   "metadata": {},
   "source": [
    "<h3> Percentage of funding received by top 3 sectors in USA, GBR, IND</h3>"
   ]
  },
  {
   "cell_type": "markdown",
   "metadata": {},
   "source": [
    "NOTE: For the percentage computation only considering the funding received for top 3 sectors to see in what percentage each sector received funding. So that Spark Fund can follow this trend for funding across these sectors"
   ]
  },
  {
   "cell_type": "markdown",
   "metadata": {},
   "source": [
    "**Percentage of funding received by Top 3 sector in USA**"
   ]
  },
  {
   "cell_type": "code",
   "execution_count": 97,
   "metadata": {
    "scrolled": true
   },
   "outputs": [
    {
     "data": {
      "image/png": "[encoded data removed]",
      "text/plain": [
       "<Figure size 432x432 with 1 Axes>"
      ]
     },
     "metadata": {},
     "output_type": "display_data"
    }
   ],
   "source": [
    "#For this we will make use of D1_cat_table which contains total fund raised and total number of funds per sector for USA\n",
    "plt.figure(figsize=(6, 6))\n",
    "plt.pie(D1_cat_table[:3].total_amount_invested.values, \n",
    "        labels=list(D1_cat_table.index[:3]),\n",
    "        autopct='%.2f%%')\n",
    "plt.title(\"Percentage of Total funding received by Top 3 sector in USA\")\n",
    "plt.show() "
   ]
  },
  {
   "cell_type": "markdown",
   "metadata": {},
   "source": [
    "**Percentage of Total funding received by Top 3 sector in GBR**"
   ]
  },
  {
   "cell_type": "code",
   "execution_count": 98,
   "metadata": {
    "scrolled": true
   },
   "outputs": [
    {
     "data": {
      "image/png": "[encoded data removed]",
      "text/plain": [
       "<Figure size 432x432 with 1 Axes>"
      ]
     },
     "metadata": {},
     "output_type": "display_data"
    }
   ],
   "source": [
    "#For this we will make use of D2_cat_table which contains total fund raised and total number of funds per sector for GBR\n",
    "plt.figure(figsize=(6, 6))\n",
    "plt.pie(D2_cat_table[:3].total_amount_invested.values, \n",
    "        labels=list(D2_cat_table.index[:3]),\n",
    "        autopct='%.2f%%')\n",
    "plt.title(\"Percentage of Total funding received by Top 3 sector in GBR\")\n",
    "plt.show() "
   ]
  },
  {
   "cell_type": "markdown",
   "metadata": {},
   "source": [
    "**Percentage of Total funding received by Top 3 sector in IND**"
   ]
  },
  {
   "cell_type": "code",
   "execution_count": 99,
   "metadata": {},
   "outputs": [
    {
     "data": {
      "image/png": "[encoded data removed]",
      "text/plain": [
       "<Figure size 432x432 with 1 Axes>"
      ]
     },
     "metadata": {},
     "output_type": "display_data"
    }
   ],
   "source": [
    "#For this we will make use of D3_cat_table which contains total fund raised and total number of funds per sector for IND\n",
    "plt.figure(figsize=(6, 6))\n",
    "plt.pie(D3_cat_table[:3].total_amount_invested.values, \n",
    "        labels=list(D3_cat_table.index[:3]),\n",
    "        autopct='%.2f%%')\n",
    "plt.title(\"Percentage of Total funding received by Top 3 sector in IND\")\n",
    "plt.show() "
   ]
  },
  {
   "cell_type": "markdown",
   "metadata": {},
   "source": [
    "<h2>Visualization of Funding Round Type Analysis based on Avergae Funding</h2>"
   ]
  },
  {
   "cell_type": "code",
   "execution_count": 100,
   "metadata": {},
   "outputs": [
    {
     "data": {
      "image/png": "[encoded data removed]",
      "text/plain": [
       "<Figure size 720x576 with 1 Axes>"
      ]
     },
     "metadata": {
      "needs_background": "light"
     },
     "output_type": "display_data"
    }
   ],
   "source": [
    "plt.figure(figsize=(10, 8))\n",
    "\n",
    "sns.barplot(y='raised_amount_usd', x=\"funding_round_type\", data=master_frame, estimator=(np.mean))\n",
    "plt.title(\"Average funding vs funding_type\")\n",
    "plt.axhline(y = 5000000, linewidth=2, color='b')\n",
    "plt.axhline(y = 15000000, linewidth=2, color='b')\n",
    "plt.show()"
   ]
  },
  {
   "cell_type": "code",
   "execution_count": 101,
   "metadata": {},
   "outputs": [
    {
     "data": {
      "image/png": "[encoded data removed]",
      "text/plain": [
       "<Figure size 576x576 with 1 Axes>"
      ]
     },
     "metadata": {},
     "output_type": "display_data"
    }
   ],
   "source": [
    "fundtype_DF = master_frame.groupby('funding_round_type')['raised_amount_usd'].agg([np.mean, sum])\n",
    "\n",
    "#fundtype_DF = fundtype_DF[fundtype_DF.index != 'angel']\n",
    "\n",
    "labels = []\n",
    "for i, data in fundtype_DF.iterrows():\n",
    "    labels.append((i,round(data['mean'], 2)))\n",
    "plt.figure(figsize=(8, 8))\n",
    "plt.pie(fundtype_DF['sum'].values, labels= labels, autopct='%.2f%%')\n",
    "plt.title(\"Funding percentage and Average Fund Across Seed, Venture, Angel, Private Equity\")\n",
    "plt.show() "
   ]
  },
  {
   "cell_type": "markdown",
   "metadata": {},
   "source": [
    "<h2>Visualization of Top 9 Countries Based on Total Funding</h2>"
   ]
  },
  {
   "cell_type": "markdown",
   "metadata": {},
   "source": [
    "**Let's arrange this plot in the descending order for easier understanding**"
   ]
  },
  {
   "cell_type": "code",
   "execution_count": 102,
   "metadata": {},
   "outputs": [],
   "source": [
    "result = top9.groupby('country_code')['raised_amount_usd'].aggregate(np.sum)\n",
    "result = result.sort_values(ascending = False)"
   ]
  },
  {
   "cell_type": "code",
   "execution_count": 103,
   "metadata": {},
   "outputs": [
    {
     "data": {
      "image/png": "[encoded data removed]",
      "text/plain": [
       "<Figure size 720x576 with 1 Axes>"
      ]
     },
     "metadata": {
      "needs_background": "light"
     },
     "output_type": "display_data"
    }
   ],
   "source": [
    "plt.figure(figsize=(10, 8))\n",
    "sns.barplot(y=result.values, x= result.index)\n",
    "plt.xlabel('Country Code')\n",
    "plt.ylabel('Total Funding in USD')\n",
    "plt.title(\"Total funding per Country\")\n",
    "plt.show() "
   ]
  },
  {
   "cell_type": "code",
   "execution_count": 104,
   "metadata": {
    "scrolled": true
   },
   "outputs": [
    {
     "name": "stdout",
     "output_type": "stream",
     "text": [
      "<class 'pandas.core.frame.DataFrame'>\n",
      "Int64Index: 13012 entries, 0 to 327\n",
      "Data columns (total 8 columns):\n",
      "company_permalink             13012 non-null object\n",
      "raised_amount_usd             13012 non-null float64\n",
      "name                          13012 non-null object\n",
      "country_code                  13012 non-null object\n",
      "primary_sector                13012 non-null object\n",
      "main_sector                   13012 non-null object\n",
      "total_number_of_investment    13012 non-null int64\n",
      "total_amount_invested         13012 non-null float64\n",
      "dtypes: float64(2), int64(1), object(5)\n",
      "memory usage: 914.9+ KB\n"
     ]
    }
   ],
   "source": [
    "Top3DF = pd.concat([D1, D2, D3], axis = 0)\n",
    "Top3DF.info()"
   ]
  },
  {
   "cell_type": "markdown",
   "metadata": {},
   "source": [
    "<h2> Number of Fundings received per Top 3 Sectors for Top 3 English Speaking Countries </h2>"
   ]
  },
  {
   "cell_type": "markdown",
   "metadata": {},
   "source": [
    "**Number of funding received by top 3 english speaking contries across all sectors**"
   ]
  },
  {
   "cell_type": "code",
   "execution_count": 105,
   "metadata": {},
   "outputs": [
    {
     "data": {
      "image/png": "[encoded data removed]",
      "text/plain": [
       "<Figure size 1440x864 with 1 Axes>"
      ]
     },
     "metadata": {
      "needs_background": "light"
     },
     "output_type": "display_data"
    }
   ],
   "source": [
    "plt.figure(figsize=(20, 12))\n",
    "\n",
    "sns.countplot( x=\"country_code\", hue = 'main_sector', data=Top3DF)\n",
    "plt.title(\"Total funding per sector vs Country\")\n",
    "plt.show()"
   ]
  },
  {
   "cell_type": "markdown",
   "metadata": {},
   "source": [
    "**Number of funding received by top 3 english speaking contries across top 3 sectors**"
   ]
  },
  {
   "cell_type": "code",
   "execution_count": 106,
   "metadata": {
    "scrolled": true
   },
   "outputs": [
    {
     "name": "stdout",
     "output_type": "stream",
     "text": [
      "<class 'pandas.core.frame.DataFrame'>\n",
      "Int64Index: 8646 entries, 2174 to 274\n",
      "Data columns (total 8 columns):\n",
      "company_permalink             8646 non-null object\n",
      "raised_amount_usd             8646 non-null float64\n",
      "name                          8646 non-null object\n",
      "country_code                  8646 non-null object\n",
      "primary_sector                8646 non-null object\n",
      "main_sector                   8646 non-null object\n",
      "total_number_of_investment    8646 non-null int64\n",
      "total_amount_invested         8646 non-null float64\n",
      "dtypes: float64(2), int64(1), object(5)\n",
      "memory usage: 607.9+ KB\n"
     ]
    }
   ],
   "source": [
    "Top3DFtest = Top3DF[((Top3DF.country_code == 'USA') & Top3DF.main_sector.isin([D1_cat_table.index[0], D1_cat_table.index[1], D1_cat_table.index[2]])) |\n",
    "                    ((Top3DF.country_code == 'GBR') & Top3DF.main_sector.isin([D2_cat_table.index[0], D2_cat_table.index[1], D2_cat_table.index[2]])) |\n",
    "                    ((Top3DF.country_code == 'IND') & Top3DF.main_sector.isin([D3_cat_table.index[0], D3_cat_table.index[1], D3_cat_table.index[2]]))]\n",
    "Top3DFtest.info()"
   ]
  },
  {
   "cell_type": "code",
   "execution_count": 98,
   "metadata": {
    "scrolled": false
   },
   "outputs": [
    {
     "data": {
      "image/png": "[encoded data removed]",
      "text/plain": [
       "<Figure size 1080x576 with 1 Axes>"
      ]
     },
     "metadata": {
      "needs_background": "light"
     },
     "output_type": "display_data"
    }
   ],
   "source": [
    "plt.figure(figsize=(15, 8))\n",
    "\n",
    "sns.countplot( x=\"country_code\", hue = 'main_sector', data=Top3DFtest)\n",
    "plt.ylabel('Number of investment')\n",
    "plt.xlabel('Country Code')\n",
    "plt.title(\"Total count of Sector wise funding vs Country\")\n",
    "plt.show()"
   ]
  }
 ],
 "metadata": {
  "kernelspec": {
   "display_name": "Python 3",
   "language": "python",
   "name": "python3"
  },
  "language_info": {
   "codemirror_mode": {
    "name": "ipython",
    "version": 3
   },
   "file_extension": ".py",
   "mimetype": "text/x-python",
   "name": "python",
   "nbconvert_exporter": "python",
   "pygments_lexer": "ipython3",
   "version": "3.7.1"
  }
 },
 "nbformat": 4,
 "nbformat_minor": 2
}
